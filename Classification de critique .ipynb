{
 "cells": [
  {
   "cell_type": "markdown",
   "id": "bec8798b",
   "metadata": {},
   "source": [
    "## Classification de critiques de films\n",
    "\n",
    "Par CHACHA Ali Ahmed Bachir \n",
    "\n",
    "chachaaliahmed0@gmail.com\n",
    "\n",
    "ESG@2022-2023 BD 5ème année"
   ]
  },
  {
   "cell_type": "markdown",
   "id": "eb65d658",
   "metadata": {},
   "source": [
    "## 1. Importation des modules"
   ]
  },
  {
   "cell_type": "code",
   "execution_count": 76,
   "id": "59016a2f",
   "metadata": {},
   "outputs": [],
   "source": [
    "import pickle \n",
    "import pandas as pd\n",
    "import numpy as np                                              \n",
    "#from textblob import TextBlob  \n",
    "from sklearn.feature_extraction.text import CountVectorizer   \n",
    "from sklearn.model_selection import train_test_split           \n",
    "from sklearn.linear_model import LogisticRegression            \n",
    "from sklearn.metrics import confusion_matrix                   \n",
    "from sklearn.feature_extraction.text import TfidfVectorizer\n",
    "import nltk\n",
    "from nltk.corpus import stopwords \n",
    "#from wordcloud import WordCloud \n",
    "import matplotlib.pyplot as plt \n",
    "from sklearn.metrics import confusion_matrix, ConfusionMatrixDisplay"
   ]
  },
  {
   "cell_type": "markdown",
   "id": "62cb676c",
   "metadata": {},
   "source": [
    "## 2. chargement des données"
   ]
  },
  {
   "cell_type": "code",
   "execution_count": 2,
   "id": "9f5f05f5",
   "metadata": {},
   "outputs": [
    {
     "name": "stdout",
     "output_type": "stream",
     "text": [
      "Le dataset de critiques positives contient 12500 observations.\n",
      "Le dataset de critiques négatives contient 12500 observations.\n"
     ]
    }
   ],
   "source": [
    "# Enregistrement des données dans des variables: pos_data = critiques positives| neg_data = critiques négatives \n",
    "    \n",
    "pos_data = pd.read_pickle(\"/Users/aliahmedbachirchacha/Downloads/imdb_raw/imdb_raw_pos.pickle\")\n",
    "neg_data = pd.read_pickle(\"/Users/aliahmedbachirchacha/Downloads/imdb_raw/imdb_raw_neg.pickle\")\n",
    "    \n",
    "print(\"Le dataset de critiques positives contient \" + str(len(pos_data)) + \" observations.\")\n",
    "print(\"Le dataset de critiques négatives contient \" + str(len(neg_data)) + \" observations.\")"
   ]
  },
  {
   "cell_type": "code",
   "execution_count": 14,
   "id": "35b10533",
   "metadata": {},
   "outputs": [],
   "source": [
    "positif_df = pd.DataFrame({\"commentaire\":pos_data})"
   ]
  },
  {
   "cell_type": "code",
   "execution_count": 15,
   "id": "67a73170",
   "metadata": {},
   "outputs": [],
   "source": [
    "negatif_df = pd.DataFrame({\"commentaire\":neg_data})"
   ]
  },
  {
   "cell_type": "code",
   "execution_count": 17,
   "id": "beeb6886",
   "metadata": {},
   "outputs": [],
   "source": [
    "positif_df[\"sentiment\"]=1\n",
    "negatif_df[\"sentiment\"]=0"
   ]
  },
  {
   "cell_type": "code",
   "execution_count": 20,
   "id": "a8455ba1",
   "metadata": {},
   "outputs": [
    {
     "data": {
      "text/html": [
       "<div>\n",
       "<style scoped>\n",
       "    .dataframe tbody tr th:only-of-type {\n",
       "        vertical-align: middle;\n",
       "    }\n",
       "\n",
       "    .dataframe tbody tr th {\n",
       "        vertical-align: top;\n",
       "    }\n",
       "\n",
       "    .dataframe thead th {\n",
       "        text-align: right;\n",
       "    }\n",
       "</style>\n",
       "<table border=\"1\" class=\"dataframe\">\n",
       "  <thead>\n",
       "    <tr style=\"text-align: right;\">\n",
       "      <th></th>\n",
       "      <th>commentaire</th>\n",
       "      <th>sentiment</th>\n",
       "    </tr>\n",
       "  </thead>\n",
       "  <tbody>\n",
       "    <tr>\n",
       "      <th>0</th>\n",
       "      <td>i went and saw this movie last night after bei...</td>\n",
       "      <td>1</td>\n",
       "    </tr>\n",
       "    <tr>\n",
       "      <th>1</th>\n",
       "      <td>actor turned director bill paxton follows up h...</td>\n",
       "      <td>1</td>\n",
       "    </tr>\n",
       "    <tr>\n",
       "      <th>2</th>\n",
       "      <td>as a recreational golfer with some knowledge o...</td>\n",
       "      <td>1</td>\n",
       "    </tr>\n",
       "    <tr>\n",
       "      <th>3</th>\n",
       "      <td>i saw this film in a sneak preview  and it is ...</td>\n",
       "      <td>1</td>\n",
       "    </tr>\n",
       "    <tr>\n",
       "      <th>4</th>\n",
       "      <td>bill paxton has taken the true story of the   ...</td>\n",
       "      <td>1</td>\n",
       "    </tr>\n",
       "  </tbody>\n",
       "</table>\n",
       "</div>"
      ],
      "text/plain": [
       "                                         commentaire  sentiment\n",
       "0  i went and saw this movie last night after bei...          1\n",
       "1  actor turned director bill paxton follows up h...          1\n",
       "2  as a recreational golfer with some knowledge o...          1\n",
       "3  i saw this film in a sneak preview  and it is ...          1\n",
       "4  bill paxton has taken the true story of the   ...          1"
      ]
     },
     "execution_count": 20,
     "metadata": {},
     "output_type": "execute_result"
    }
   ],
   "source": [
    "positif_df.head()"
   ]
  },
  {
   "cell_type": "code",
   "execution_count": 22,
   "id": "65bc43ef",
   "metadata": {},
   "outputs": [],
   "source": [
    "df_final = pd.concat([positif_df, negatif_df])"
   ]
  },
  {
   "cell_type": "code",
   "execution_count": 25,
   "id": "dbe07180",
   "metadata": {},
   "outputs": [
    {
     "data": {
      "text/html": [
       "<div>\n",
       "<style scoped>\n",
       "    .dataframe tbody tr th:only-of-type {\n",
       "        vertical-align: middle;\n",
       "    }\n",
       "\n",
       "    .dataframe tbody tr th {\n",
       "        vertical-align: top;\n",
       "    }\n",
       "\n",
       "    .dataframe thead th {\n",
       "        text-align: right;\n",
       "    }\n",
       "</style>\n",
       "<table border=\"1\" class=\"dataframe\">\n",
       "  <thead>\n",
       "    <tr style=\"text-align: right;\">\n",
       "      <th></th>\n",
       "      <th>commentaire</th>\n",
       "      <th>sentiment</th>\n",
       "    </tr>\n",
       "  </thead>\n",
       "  <tbody>\n",
       "    <tr>\n",
       "      <th>0</th>\n",
       "      <td>i went and saw this movie last night after bei...</td>\n",
       "      <td>1</td>\n",
       "    </tr>\n",
       "    <tr>\n",
       "      <th>1</th>\n",
       "      <td>actor turned director bill paxton follows up h...</td>\n",
       "      <td>1</td>\n",
       "    </tr>\n",
       "    <tr>\n",
       "      <th>2</th>\n",
       "      <td>as a recreational golfer with some knowledge o...</td>\n",
       "      <td>1</td>\n",
       "    </tr>\n",
       "    <tr>\n",
       "      <th>3</th>\n",
       "      <td>i saw this film in a sneak preview  and it is ...</td>\n",
       "      <td>1</td>\n",
       "    </tr>\n",
       "    <tr>\n",
       "      <th>4</th>\n",
       "      <td>bill paxton has taken the true story of the   ...</td>\n",
       "      <td>1</td>\n",
       "    </tr>\n",
       "    <tr>\n",
       "      <th>...</th>\n",
       "      <td>...</td>\n",
       "      <td>...</td>\n",
       "    </tr>\n",
       "    <tr>\n",
       "      <th>12495</th>\n",
       "      <td>i occasionally let my kids watch this garbage ...</td>\n",
       "      <td>0</td>\n",
       "    </tr>\n",
       "    <tr>\n",
       "      <th>12496</th>\n",
       "      <td>when all we have anymore is pretty much realit...</td>\n",
       "      <td>0</td>\n",
       "    </tr>\n",
       "    <tr>\n",
       "      <th>12497</th>\n",
       "      <td>the basic genre is a thriller intercut with an...</td>\n",
       "      <td>0</td>\n",
       "    </tr>\n",
       "    <tr>\n",
       "      <th>12498</th>\n",
       "      <td>four things intrigued me as to this film - fir...</td>\n",
       "      <td>0</td>\n",
       "    </tr>\n",
       "    <tr>\n",
       "      <th>12499</th>\n",
       "      <td>david bryce s comments nearby are exceptionall...</td>\n",
       "      <td>0</td>\n",
       "    </tr>\n",
       "  </tbody>\n",
       "</table>\n",
       "<p>25000 rows × 2 columns</p>\n",
       "</div>"
      ],
      "text/plain": [
       "                                             commentaire  sentiment\n",
       "0      i went and saw this movie last night after bei...          1\n",
       "1      actor turned director bill paxton follows up h...          1\n",
       "2      as a recreational golfer with some knowledge o...          1\n",
       "3      i saw this film in a sneak preview  and it is ...          1\n",
       "4      bill paxton has taken the true story of the   ...          1\n",
       "...                                                  ...        ...\n",
       "12495  i occasionally let my kids watch this garbage ...          0\n",
       "12496  when all we have anymore is pretty much realit...          0\n",
       "12497  the basic genre is a thriller intercut with an...          0\n",
       "12498  four things intrigued me as to this film - fir...          0\n",
       "12499  david bryce s comments nearby are exceptionall...          0\n",
       "\n",
       "[25000 rows x 2 columns]"
      ]
     },
     "execution_count": 25,
     "metadata": {},
     "output_type": "execute_result"
    }
   ],
   "source": [
    "df_final"
   ]
  },
  {
   "cell_type": "markdown",
   "id": "ddecd356",
   "metadata": {},
   "source": [
    "## 3. Prétraitements des données "
   ]
  },
  {
   "cell_type": "code",
   "execution_count": null,
   "id": "561def4e",
   "metadata": {},
   "outputs": [],
   "source": [
    "caracteres_speciaux=[',','\"','<br />',';','--','---','`','/',\"'\",\"]\",'[','?',':','(',')','<','>','|','{','}','*','%','_','!',\".\",'~','1','2','3','4','5','6','7','8','9','0','$']"
   ]
  },
  {
   "cell_type": "code",
   "execution_count": 30,
   "id": "b5d20fb8",
   "metadata": {},
   "outputs": [
    {
     "data": {
      "text/plain": [
       "0        i went and saw this movie last night after bei...\n",
       "1        actor turned director bill paxton follows up h...\n",
       "2        as a recreational golfer with some knowledge o...\n",
       "3        i saw this film in a sneak preview  and it is ...\n",
       "4        bill paxton has taken the true story of the   ...\n",
       "                               ...                        \n",
       "12495    i occasionally let my kids watch this garbage ...\n",
       "12496    when all we have anymore is pretty much realit...\n",
       "12497    the basic genre is a thriller intercut with an...\n",
       "12498    four things intrigued me as to this film - fir...\n",
       "12499    david bryce s comments nearby are exceptionall...\n",
       "Name: commentaire, Length: 25000, dtype: object"
      ]
     },
     "execution_count": 30,
     "metadata": {},
     "output_type": "execute_result"
    }
   ],
   "source": [
    "df_final['commentaire'].replace(caracteres_speciaux, '')"
   ]
  },
  {
   "cell_type": "markdown",
   "id": "224e7d93",
   "metadata": {},
   "source": [
    "### Split data"
   ]
  },
  {
   "cell_type": "code",
   "execution_count": 34,
   "id": "4f616456",
   "metadata": {},
   "outputs": [],
   "source": [
    "X_train, X_test, Y_train, Y_test = train_test_split(df_final.commentaire,df_final.sentiment, test_size= 0.4)"
   ]
  },
  {
   "cell_type": "code",
   "execution_count": 35,
   "id": "7939f99b",
   "metadata": {},
   "outputs": [
    {
     "name": "stdout",
     "output_type": "stream",
     "text": [
      "X_train size :  (15000,)\n",
      "X_test size :  (10000,)\n",
      "Y_train size :  (15000,)\n",
      "Y_test size :  (10000,)\n"
     ]
    }
   ],
   "source": [
    "print(\"X_train size : \", X_train.shape)\n",
    "print(\"X_test size : \", X_test.shape)\n",
    "print(\"Y_train size : \", Y_train.shape)\n",
    "print(\"Y_test size : \", Y_test.shape)"
   ]
  },
  {
   "cell_type": "markdown",
   "id": "e29a05ca",
   "metadata": {},
   "source": [
    "## Vectorisation et création du model"
   ]
  },
  {
   "cell_type": "code",
   "execution_count": 64,
   "id": "321df104",
   "metadata": {},
   "outputs": [],
   "source": [
    "vector_function=CountVectorizer(stop_words='english', binary=False,ngram_range=(1,1))"
   ]
  },
  {
   "cell_type": "code",
   "execution_count": 65,
   "id": "e7a708a0",
   "metadata": {},
   "outputs": [],
   "source": [
    "X_train_vector=cv.fit_transform(X_train)"
   ]
  },
  {
   "cell_type": "code",
   "execution_count": 66,
   "id": "2e6fa5eb",
   "metadata": {},
   "outputs": [],
   "source": [
    "X_test_vector=cv.transform(X_test)"
   ]
  },
  {
   "cell_type": "code",
   "execution_count": 67,
   "id": "37db61f8",
   "metadata": {},
   "outputs": [
    {
     "data": {
      "text/plain": [
       "(10000, 58866)"
      ]
     },
     "execution_count": 67,
     "metadata": {},
     "output_type": "execute_result"
    }
   ],
   "source": [
    "X_test_vector.shape"
   ]
  },
  {
   "cell_type": "code",
   "execution_count": 68,
   "id": "bc4d4f55",
   "metadata": {},
   "outputs": [],
   "source": [
    "lr=LogisticRegression(max_iter=10000)"
   ]
  },
  {
   "cell_type": "code",
   "execution_count": 69,
   "id": "93d90ffb",
   "metadata": {},
   "outputs": [],
   "source": [
    "log=lr.fit(X_train_vector,Y_train)"
   ]
  },
  {
   "cell_type": "code",
   "execution_count": 70,
   "id": "6e5300a0",
   "metadata": {},
   "outputs": [
    {
     "data": {
      "text/plain": [
       "0.9988"
      ]
     },
     "execution_count": 70,
     "metadata": {},
     "output_type": "execute_result"
    }
   ],
   "source": [
    "log.score(X_train_vector, Y_train)"
   ]
  },
  {
   "cell_type": "code",
   "execution_count": 71,
   "id": "99b6bc30",
   "metadata": {},
   "outputs": [
    {
     "data": {
      "text/plain": [
       "0.8757"
      ]
     },
     "execution_count": 71,
     "metadata": {},
     "output_type": "execute_result"
    }
   ],
   "source": [
    "log.score(X_test_vector, Y_test)"
   ]
  },
  {
   "cell_type": "markdown",
   "id": "c012b02b",
   "metadata": {},
   "source": [
    "### predict"
   ]
  },
  {
   "cell_type": "code",
   "execution_count": 72,
   "id": "5ce1647a",
   "metadata": {},
   "outputs": [
    {
     "name": "stdout",
     "output_type": "stream",
     "text": [
      "[1 0 0 ... 1 0 1]\n"
     ]
    }
   ],
   "source": [
    "prediction=lr.predict(X_test_vector)\n",
    "print(prediction)"
   ]
  },
  {
   "cell_type": "markdown",
   "id": "2a52dbea",
   "metadata": {},
   "source": [
    "#### confusion matrix (%)"
   ]
  },
  {
   "cell_type": "code",
   "execution_count": 80,
   "id": "5898ae41",
   "metadata": {},
   "outputs": [
    {
     "data": {
      "text/plain": [
       "<sklearn.metrics._plot.confusion_matrix.ConfusionMatrixDisplay at 0x7fca9d617250>"
      ]
     },
     "execution_count": 80,
     "metadata": {},
     "output_type": "execute_result"
    },
    {
     "data": {
      "image/png": "[encoded data removed]",
      "text/plain": [
       "<Figure size 432x288 with 2 Axes>"
      ]
     },
     "metadata": {
      "needs_background": "light"
     },
     "output_type": "display_data"
    }
   ],
   "source": [
    "matrix=confusion_matrix(Y_test,prediction,labels=[1,0])/np.sum(confusion_matrix(Y_test,prediction,labels=[1,0]))\n",
    "test = ConfusionMatrixDisplay(confusion_matrix=matrix)\n",
    "test.plot()"
   ]
  }
 ],
 "metadata": {
  "kernelspec": {
   "display_name": "Python 3",
   "language": "python",
   "name": "python3"
  },
  "language_info": {
   "codemirror_mode": {
    "name": "ipython",
    "version": 3
   },
   "file_extension": ".py",
   "mimetype": "text/x-python",
   "name": "python",
   "nbconvert_exporter": "python",
   "pygments_lexer": "ipython3",
   "version": "3.8.8"
  }
 },
 "nbformat": 4,
 "nbformat_minor": 5
}
