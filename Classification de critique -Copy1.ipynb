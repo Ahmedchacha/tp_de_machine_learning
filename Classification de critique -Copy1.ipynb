{
 "cells": [
  {
   "cell_type": "markdown",
   "id": "bec8798b",
   "metadata": {},
   "source": [
    "## Classification de critiques de films\n",
    "\n",
    "Par CHACHA Ali Ahmed Bachir \n",
    "\n",
    "chachaaliahmed0@gmail.com\n",
    "\n",
    "ESG@2022-2023 BD 5ème année"
   ]
  },
  {
   "cell_type": "markdown",
   "id": "eb65d658",
   "metadata": {},
   "source": [
    "## 1. Importation des modules"
   ]
  },
  {
   "cell_type": "code",
   "execution_count": 1,
   "id": "59016a2f",
   "metadata": {},
   "outputs": [],
   "source": [
    "import pickle \n",
    "import pandas as pd\n",
    "import numpy as np                                              \n",
    "#from textblob import TextBlob  \n",
    "from sklearn.feature_extraction.text import CountVectorizer   \n",
    "from sklearn.model_selection import train_test_split           \n",
    "from sklearn.linear_model import LogisticRegression            \n",
    "from sklearn.metrics import confusion_matrix                   \n",
    "from sklearn.feature_extraction.text import TfidfVectorizer\n",
    "import nltk\n",
    "from nltk.corpus import stopwords \n",
    "#from wordcloud import WordCloud \n",
    "import matplotlib.pyplot as plt "
   ]
  },
  {
   "cell_type": "markdown",
   "id": "62cb676c",
   "metadata": {},
   "source": [
    "## 2. chargement des données"
   ]
  },
  {
   "cell_type": "code",
   "execution_count": 2,
   "id": "9f5f05f5",
   "metadata": {},
   "outputs": [
    {
     "name": "stdout",
     "output_type": "stream",
     "text": [
      "Le dataset de critiques positives contient 12500 observations.\n",
      "Le dataset de critiques négatives contient 12500 observations.\n"
     ]
    }
   ],
   "source": [
    "# Enregistrement des données dans des variables: pos_data = critiques positives| neg_data = critiques négatives \n",
    "    \n",
    "pos_data = pd.read_pickle(\"/Users/aliahmedbachirchacha/Documents/tp_machine_learning/imdb_raw_pos.pickle\")\n",
    "neg_data = pd.read_pickle(\"/Users/aliahmedbachirchacha/Documents/tp_machine_learning/imdb_raw_neg.pickle\")\n",
    "    \n",
    "print(\"Le dataset de critiques positives contient \" + str(len(pos_data)) + \" observations.\")\n",
    "print(\"Le dataset de critiques négatives contient \" + str(len(neg_data)) + \" observations.\")"
   ]
  },
  {
   "cell_type": "code",
   "execution_count": 3,
   "id": "8e5fd1a1",
   "metadata": {},
   "outputs": [],
   "source": [
    "positif_df = pd.DataFrame({\"commentaire\":pos_data})"
   ]
  },
  {
   "cell_type": "code",
   "execution_count": 4,
   "id": "ba202b6c",
   "metadata": {},
   "outputs": [],
   "source": [
    "negatif_df = pd.DataFrame({\"commentaire\":neg_data})"
   ]
  },
  {
   "cell_type": "code",
   "execution_count": 17,
   "id": "2a582f4f",
   "metadata": {},
   "outputs": [],
   "source": [
    "positif_df[\"sentiment\"]=1\n",
    "negatif_df[\"sentiment\"]=0"
   ]
  },
  {
   "cell_type": "code",
   "execution_count": 20,
   "id": "69e45157",
   "metadata": {},
   "outputs": [
    {
     "data": {
      "text/html": [
       "<div>\n",
       "<style scoped>\n",
       "    .dataframe tbody tr th:only-of-type {\n",
       "        vertical-align: middle;\n",
       "    }\n",
       "\n",
       "    .dataframe tbody tr th {\n",
       "        vertical-align: top;\n",
       "    }\n",
       "\n",
       "    .dataframe thead th {\n",
       "        text-align: right;\n",
       "    }\n",
       "</style>\n",
       "<table border=\"1\" class=\"dataframe\">\n",
       "  <thead>\n",
       "    <tr style=\"text-align: right;\">\n",
       "      <th></th>\n",
       "      <th>commentaire</th>\n",
       "      <th>sentiment</th>\n",
       "    </tr>\n",
       "  </thead>\n",
       "  <tbody>\n",
       "    <tr>\n",
       "      <th>0</th>\n",
       "      <td>i went and saw this movie last night after bei...</td>\n",
       "      <td>1</td>\n",
       "    </tr>\n",
       "    <tr>\n",
       "      <th>1</th>\n",
       "      <td>actor turned director bill paxton follows up h...</td>\n",
       "      <td>1</td>\n",
       "    </tr>\n",
       "    <tr>\n",
       "      <th>2</th>\n",
       "      <td>as a recreational golfer with some knowledge o...</td>\n",
       "      <td>1</td>\n",
       "    </tr>\n",
       "    <tr>\n",
       "      <th>3</th>\n",
       "      <td>i saw this film in a sneak preview  and it is ...</td>\n",
       "      <td>1</td>\n",
       "    </tr>\n",
       "    <tr>\n",
       "      <th>4</th>\n",
       "      <td>bill paxton has taken the true story of the   ...</td>\n",
       "      <td>1</td>\n",
       "    </tr>\n",
       "  </tbody>\n",
       "</table>\n",
       "</div>"
      ],
      "text/plain": [
       "                                         commentaire  sentiment\n",
       "0  i went and saw this movie last night after bei...          1\n",
       "1  actor turned director bill paxton follows up h...          1\n",
       "2  as a recreational golfer with some knowledge o...          1\n",
       "3  i saw this film in a sneak preview  and it is ...          1\n",
       "4  bill paxton has taken the true story of the   ...          1"
      ]
     },
     "execution_count": 20,
     "metadata": {},
     "output_type": "execute_result"
    }
   ],
   "source": [
    "positif_df.head()"
   ]
  },
  {
   "cell_type": "code",
   "execution_count": 22,
   "id": "3cd32204",
   "metadata": {},
   "outputs": [],
   "source": [
    "df_final = pd.concat([positif_df, negatif_df])"
   ]
  },
  {
   "cell_type": "code",
   "execution_count": 25,
   "id": "0c21e9bf",
   "metadata": {},
   "outputs": [
    {
     "data": {
      "text/html": [
       "<div>\n",
       "<style scoped>\n",
       "    .dataframe tbody tr th:only-of-type {\n",
       "        vertical-align: middle;\n",
       "    }\n",
       "\n",
       "    .dataframe tbody tr th {\n",
       "        vertical-align: top;\n",
       "    }\n",
       "\n",
       "    .dataframe thead th {\n",
       "        text-align: right;\n",
       "    }\n",
       "</style>\n",
       "<table border=\"1\" class=\"dataframe\">\n",
       "  <thead>\n",
       "    <tr style=\"text-align: right;\">\n",
       "      <th></th>\n",
       "      <th>commentaire</th>\n",
       "      <th>sentiment</th>\n",
       "    </tr>\n",
       "  </thead>\n",
       "  <tbody>\n",
       "    <tr>\n",
       "      <th>0</th>\n",
       "      <td>i went and saw this movie last night after bei...</td>\n",
       "      <td>1</td>\n",
       "    </tr>\n",
       "    <tr>\n",
       "      <th>1</th>\n",
       "      <td>actor turned director bill paxton follows up h...</td>\n",
       "      <td>1</td>\n",
       "    </tr>\n",
       "    <tr>\n",
       "      <th>2</th>\n",
       "      <td>as a recreational golfer with some knowledge o...</td>\n",
       "      <td>1</td>\n",
       "    </tr>\n",
       "    <tr>\n",
       "      <th>3</th>\n",
       "      <td>i saw this film in a sneak preview  and it is ...</td>\n",
       "      <td>1</td>\n",
       "    </tr>\n",
       "    <tr>\n",
       "      <th>4</th>\n",
       "      <td>bill paxton has taken the true story of the   ...</td>\n",
       "      <td>1</td>\n",
       "    </tr>\n",
       "    <tr>\n",
       "      <th>...</th>\n",
       "      <td>...</td>\n",
       "      <td>...</td>\n",
       "    </tr>\n",
       "    <tr>\n",
       "      <th>12495</th>\n",
       "      <td>i occasionally let my kids watch this garbage ...</td>\n",
       "      <td>0</td>\n",
       "    </tr>\n",
       "    <tr>\n",
       "      <th>12496</th>\n",
       "      <td>when all we have anymore is pretty much realit...</td>\n",
       "      <td>0</td>\n",
       "    </tr>\n",
       "    <tr>\n",
       "      <th>12497</th>\n",
       "      <td>the basic genre is a thriller intercut with an...</td>\n",
       "      <td>0</td>\n",
       "    </tr>\n",
       "    <tr>\n",
       "      <th>12498</th>\n",
       "      <td>four things intrigued me as to this film - fir...</td>\n",
       "      <td>0</td>\n",
       "    </tr>\n",
       "    <tr>\n",
       "      <th>12499</th>\n",
       "      <td>david bryce s comments nearby are exceptionall...</td>\n",
       "      <td>0</td>\n",
       "    </tr>\n",
       "  </tbody>\n",
       "</table>\n",
       "<p>25000 rows × 2 columns</p>\n",
       "</div>"
      ],
      "text/plain": [
       "                                             commentaire  sentiment\n",
       "0      i went and saw this movie last night after bei...          1\n",
       "1      actor turned director bill paxton follows up h...          1\n",
       "2      as a recreational golfer with some knowledge o...          1\n",
       "3      i saw this film in a sneak preview  and it is ...          1\n",
       "4      bill paxton has taken the true story of the   ...          1\n",
       "...                                                  ...        ...\n",
       "12495  i occasionally let my kids watch this garbage ...          0\n",
       "12496  when all we have anymore is pretty much realit...          0\n",
       "12497  the basic genre is a thriller intercut with an...          0\n",
       "12498  four things intrigued me as to this film - fir...          0\n",
       "12499  david bryce s comments nearby are exceptionall...          0\n",
       "\n",
       "[25000 rows x 2 columns]"
      ]
     },
     "execution_count": 25,
     "metadata": {},
     "output_type": "execute_result"
    }
   ],
   "source": [
    "df_final"
   ]
  },
  {
   "cell_type": "markdown",
   "id": "ddecd356",
   "metadata": {},
   "source": [
    "## 3. Prétraitements des données "
   ]
  },
  {
   "cell_type": "code",
   "execution_count": null,
   "id": "86357a10",
   "metadata": {},
   "outputs": [],
   "source": [
    "caracteres_speciaux=[',','\"','<br />',';','--','---','`','/',\"'\",\"]\",'[','?',':','(',')','<','>','|','{','}','*','%','_','!',\".\",'~','1','2','3','4','5','6','7','8','9','0','$']"
   ]
  },
  {
   "cell_type": "code",
   "execution_count": 30,
   "id": "b5d20fb8",
   "metadata": {},
   "outputs": [
    {
     "data": {
      "text/plain": [
       "0        i went and saw this movie last night after bei...\n",
       "1        actor turned director bill paxton follows up h...\n",
       "2        as a recreational golfer with some knowledge o...\n",
       "3        i saw this film in a sneak preview  and it is ...\n",
       "4        bill paxton has taken the true story of the   ...\n",
       "                               ...                        \n",
       "12495    i occasionally let my kids watch this garbage ...\n",
       "12496    when all we have anymore is pretty much realit...\n",
       "12497    the basic genre is a thriller intercut with an...\n",
       "12498    four things intrigued me as to this film - fir...\n",
       "12499    david bryce s comments nearby are exceptionall...\n",
       "Name: commentaire, Length: 25000, dtype: object"
      ]
     },
     "execution_count": 30,
     "metadata": {},
     "output_type": "execute_result"
    }
   ],
   "source": [
    "df_final['commentaire'].replace(caracteres_speciaux, '')"
   ]
  },
  {
   "cell_type": "markdown",
   "id": "1ccbd68a",
   "metadata": {},
   "source": [
    "### Split data"
   ]
  },
  {
   "cell_type": "code",
   "execution_count": 34,
   "id": "b8f43860",
   "metadata": {},
   "outputs": [],
   "source": [
    "X_train, X_test, Y_train, Y_test = train_test_split(df_final.commentaire,df_final.sentiment, test_size= 0.4)"
   ]
  },
  {
   "cell_type": "code",
   "execution_count": 35,
   "id": "6129bd69",
   "metadata": {},
   "outputs": [
    {
     "name": "stdout",
     "output_type": "stream",
     "text": [
      "X_train size :  (15000,)\n",
      "X_test size :  (10000,)\n",
      "Y_train size :  (15000,)\n",
      "Y_test size :  (10000,)\n"
     ]
    }
   ],
   "source": [
    "print(\"X_train size : \", X_train.shape)\n",
    "print(\"X_test size : \", X_test.shape)\n",
    "print(\"Y_train size : \", Y_train.shape)\n",
    "print(\"Y_test size : \", Y_test.shape)"
   ]
  },
  {
   "cell_type": "code",
   "execution_count": 4,
   "id": "b29f19d9",
   "metadata": {},
   "outputs": [
    {
     "name": "stdout",
     "output_type": "stream",
     "text": [
      "La matrice Data contient donc 25000 lignes.\n",
      "---------------------\n",
      "i went and saw this movie last night after being coaxed to by a few friends of mine  i ll admit that i was reluctant to see it because from what i knew of ashton kutcher he was only able to do comedy  i was wrong  kutcher played the character of jake fischer very well  and kevin costner played ben randall with such professionalism  the sign of a good movie is that it can toy with our emotions  this one did exactly that  the entire theater  which was sold out  was overcome by laughter during the first half of the movie  and were moved to tears during the second half  while exiting the theater i not only saw many women in tears  but many full grown men as well  trying desperately not to let anyone see them crying  this movie was great  and i suggest that you go see it before you judge \n",
      "---------------------\n",
      "david bryce s comments nearby are exceptionally well written and informative as almost say everything i feel about darling lili  this massive musical is so peculiar and over blown  over produced and must have caused ruptures at paramount in       it cost    million dollars  that is simply irresponsible  darling lili must have been greenlit from a board meeting that said  hey we got that pink panther guy and that sound of music gal    lets get this too  and handed over a blank cheque  the result is a hybrid of gigi  zeppelin  half a sixpence  some mgm   s song and dance numbers of a style  daisies and boaters   so hopelessly old fashioned as to be like musical porridge  and mata hari dramatics  the production is colossal  lush  breathtaking to view  but the rest  the ridiculous romance  julie looking befuddled  hudson already dead  the mistimed comedy  and the astoundingly boring songs deaden this spectacular film into being irritating  lili is like a twee     s mega musical with some vulgar bits to spice it up  star  released the year before sadly crashed and now is being finally appreciated for the excellent film is genuinely is    and andrews looks sublime  mature  especially in the last half hour      but lili is poppins and dolly frilly and i believe really killed off the mega musical binge of the   s      and made andrews look like poppins again    which i believe was not edwards intention  paramount must have collectively fainted when they saw this  and with another     million festering in catch     and     million in on a clear day and     million in paint your wagon    they had a financial abyss of cleopatra proportions with     million tied into   films with very uncertain futures  maybe they should have asked seer daisy gamble from on a clear day       lili was very popular on immediate first release in australia and ran in   mm cinemas for months but it failed once out in the subs and the sticks and only ever surfaced after that on one night stands with on a clear day as a sunday night double  thank god paramount had their simple   million  yes  one million dollar  film love story and that    million dollar gangster pic the godfather also ready to recover all the     million in just the next two years    for just   m     incredible \n"
     ]
    }
   ],
   "source": [
    "Data= np.hstack((pos_data,neg_data))\n",
    "\n",
    "#nombre de lignes de Data\n",
    "print(\"La matrice Data contient donc \" + str(Data.shape[0]) + \" lignes.\")  \n",
    "print(\"---------------------\")\n",
    " #Affichage de la première critique de Data = première critique de pos_data\n",
    "print(Data[0]) \n",
    "print(\"---------------------\")\n",
    "#Affichage de la dernière critique de Data = dernière critique de neg_data\n",
    "print(Data[24999])                                                         \n"
   ]
  },
  {
   "cell_type": "markdown",
   "id": "af71d9c8",
   "metadata": {},
   "source": [
    "## 4. Réprésentation du corpus à l'aide des sacs de mots "
   ]
  },
  {
   "cell_type": "code",
   "execution_count": 9,
   "id": "17063257",
   "metadata": {},
   "outputs": [
    {
     "name": "stdout",
     "output_type": "stream",
     "text": [
      "La matrice X créée a donc 25000 lignes et 72334 colonnes.\n",
      "72334 est donc la taille de notre dictionnaire (Vocabulaire) c'est à dire le nombre de mots uniques trouvés dans les différentes critiques .\n"
     ]
    }
   ],
   "source": [
    "#stopwords\n",
    "stop = set(stopwords.words(\"english\"))\n",
    "#Mise à jour des stopwords car ceux ci ont sensiblement le même poids dans les deux set de critiques.\n",
    "stop.update(['movie','film','like','one','see','story','time','would','also','people','movies','show','even','good','really','much','make',\n",
    "                  'watch','first','think','characters','way','films','many','could','seen','made','character','little','get','know','two','well','ever','never','say','end','10','plot','scene',\n",
    "                  'scenes','great','acting','better','funny','actually','go','life','makes','going','man','actors'])\n",
    "\n",
    "\n",
    "#Création de la Matrice X avec le module counvectorizer\n",
    "cv = CountVectorizer(binary=True,stop_words=(stop)) #Stop_words pour supprimer les mots vides \n",
    "cv.fit(Data)\n",
    "X = cv.transform(Data) \n",
    "\n",
    "#print(stop)\n",
    "print(\"La matrice X créée a donc \"+ str(X._shape[0]) + \" lignes et \" + str(X._shape[1]) + \" colonnes.\")\n",
    "print(str(X._shape[1]) + \" est donc la taille de notre dictionnaire (Vocabulaire) c'est à dire le nombre de mots uniques trouvés dans les différentes critiques .\")\n",
    "\n"
   ]
  },
  {
   "cell_type": "code",
   "execution_count": 10,
   "id": "1a9af75d",
   "metadata": {},
   "outputs": [
    {
     "name": "stdout",
     "output_type": "stream",
     "text": [
      "['aa', 'aaa', 'aaaaaaaaaaaahhhhhhhhhhhhhh', 'aaaaaaaargh', 'aaaaaaahhhhhhggg', 'aaaaagh', 'aaaaah', 'aaaaahhhh', 'aaaaargh', 'aaaaarrrrrrgggggghhhhhh', 'aaaaaw', 'aaaahhhhhh', 'aaaawwwwww', 'aaaggghhhhhhh', 'aaagh', 'aaah', 'aaahhhhhhh', 'aaall', 'aaam', 'aaand', 'aaargh', 'aaarrrgh', 'aab', 'aachen', 'aagh', 'aah', 'aahe', 'aahed', 'aahhhh', 'aahing', 'aaila', 'aailiyah', 'aaja', 'aajala', 'aak', 'aake', 'aalcc', 'aaliyah', 'aalox', 'aamir', 'aamr', 'aamto', 'aaoon', 'aap', 'aapke', 'aaran', 'aardman', 'aardvark', 'aardvarks', 'aarf', 'aargh', 'aarika', 'aaron', 'aashok', 'aasmaan', 'aasman', 'aaton', 'aau', 'aawip', 'ab', 'aback', 'abagail', 'abandon', 'abandoned', 'abandoning', 'abandonment', 'abandons', 'abasing', 'abba', 'abbas', 'abbe', 'abbey', 'abbie', 'abbot', 'abbott', 'abbotts', 'abbreviate', 'abbreviated', 'abbreviating', 'abby', 'abbyss', 'abc', 'abcs', 'abd', 'abdalla', 'abderrahmane', 'abdicated', 'abdomen', 'abdominal', 'abdoo', 'abduct', 'abducted', 'abductee', 'abducting', 'abduction', 'abductions', 'abductor', 'abductors', 'abducts', 'abdul', 'abdullah', 'abdulrahman', 'abe', 'abecassis', 'abed', 'abedalla', 'abedded', 'abel', 'abell', 'abemethie', 'abercrombie', 'aberdeen', 'abernathie', 'abernethie', 'aberrant', 'aberration', 'aberrations', 'abets', 'abetted', 'abeyance', 'abfab', 'abhi', 'abhimaan', 'abhishek', 'abhor', 'abhorent', 'abhorr', 'abhorred', 'abhorrent', 'abhors', 'abide', 'abiding', 'abigail', 'abilene', 'abilities', 'ability', 'abingdon', 'abir', 'abishag', 'abishek', 'abit', 'abject', 'abjectly', 'ablaze', 'ablazin', 'able', 'abler', 'ables', 'ablest', 'ablities', 'ably', 'abnegated', 'abnegation', 'abner', 'abnormal', 'abnormality', 'abnormally', 'abo', 'aboard', 'abode', 'abodes', 'abolished', 'abolition', 'abolitiongate', 'abolitionist', 'abolitionists', 'abominable', 'abominably', 'abominal', 'abomination', 'abominations', 'abominável', 'abondons', 'aboout', 'aboriginal', 'aboriginals', 'aborigine', 'aboriginee', 'abort', 'aborted', 'aborting', 'abortion', 'abortionist', 'abortions', 'abortive', 'aborts', 'abou', 'abound', 'abounded', 'abounding', 'abounds', 'aboutboul', 'abouts', 'abra', 'abraham', 'abrahams', 'abrahimi', 'abram', 'abrams', 'abraracourcix', 'abrasions', 'abrasive', 'abrasiveness', 'abre', 'abreast', 'abrham', 'abrhám', 'abridged', 'abridgement', 'abridging', 'abrigado', 'abril', 'abroad', 'abrogated', 'abrupt', 'abruptly', 'abs', 'absconded', 'abseiling', 'absence', 'absences', 'absent', 'absentee', 'absenteeism', 'absentia', 'absinthe', 'absoloutely', 'absoloutley', 'absolument', 'absolute', 'absolutely', 'absolution', 'absolutism', 'absolutly', 'absolve', 'absolves', 'absorb', 'absorbe', 'absorbed', 'absorbing', 'absorbingly', 'absorbs', 'absorption', 'absoulutley', 'absoutely', 'abstinence', 'abstract', 'abstracted', 'abstracting', 'abstraction', 'abstractions', 'abstracts', 'abstruse', 'absurd', 'absurdest', 'absurdism', 'absurdist', 'absurdities', 'absurdity', 'absurdité', 'absurdly', 'absurdum', 'abu', 'abudantly', 'abuelo', 'abuhab', 'abundance', 'abundant', 'abundantly', 'abuse', 'abused', 'abuser', 'abusers', 'abuses', 'abusin', 'abusing', 'abusive', 'abusively', 'abut', 'abutted', 'abuttment', 'abuzz', 'abwehr', 'aby', 'abysmal', 'abysmally', 'abyss', 'ac', 'acacia', 'acadamy', 'academeny', 'academia', 'academian', 'academic', 'academics', 'academies', 'academy', 'acadian', 'acadiana', 'accede']\n"
     ]
    }
   ],
   "source": [
    "#Les différents mots de notre dictionnaire / vocabulaire\n",
    "#print(cv.get_feature_names()) \n",
    "Features_names = cv.get_feature_names()\n",
    "Features_names_300=[]\n",
    "for i in range(0,300):\n",
    "        Features_names_300.append(Features_names[i])\n",
    "\n",
    "#Affiche Les 300 premiers mots du vocabulaire\n",
    "print(Features_names_300)"
   ]
  },
  {
   "cell_type": "code",
   "execution_count": null,
   "id": "321df104",
   "metadata": {},
   "outputs": [],
   "source": []
  }
 ],
 "metadata": {
  "kernelspec": {
   "display_name": "Python 3",
   "language": "python",
   "name": "python3"
  },
  "language_info": {
   "codemirror_mode": {
    "name": "ipython",
    "version": 3
   },
   "file_extension": ".py",
   "mimetype": "text/x-python",
   "name": "python",
   "nbconvert_exporter": "python",
   "pygments_lexer": "ipython3",
   "version": "3.8.8"
  }
 },
 "nbformat": 4,
 "nbformat_minor": 5
}
