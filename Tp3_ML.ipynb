{
 "cells": [
  {
   "cell_type": "markdown",
   "id": "ca6ed036",
   "metadata": {},
   "source": [
    "### Import"
   ]
  },
  {
   "cell_type": "code",
   "execution_count": 86,
   "id": "019791ac",
   "metadata": {},
   "outputs": [
    {
     "name": "stdout",
     "output_type": "stream",
     "text": [
      "Collecting PrettyTable\n",
      "  Downloading prettytable-3.6.0-py3-none-any.whl (27 kB)\n",
      "Requirement already satisfied: wcwidth in c:\\users\\traor\\anaconda3\\lib\\site-packages (from PrettyTable) (0.2.5)\n",
      "Installing collected packages: PrettyTable\n",
      "Successfully installed PrettyTable-3.6.0\n",
      "Note: you may need to restart the kernel to use updated packages.\n"
     ]
    }
   ],
   "source": [
    "pip install PrettyTable"
   ]
  },
  {
   "cell_type": "code",
   "execution_count": 1,
   "id": "6d27decd",
   "metadata": {},
   "outputs": [],
   "source": [
    "import pandas as pd\n",
    "import numpy as np\n",
    "import matplotlib.pyplot as plt\n",
    "from sklearn.preprocessing import MinMaxScaler\n",
    "import math as math\n",
    "from keras.models import Sequential\n",
    "from keras.layers import Dense\n",
    "from keras.layers import LSTM, GRU\n",
    "from keras.layers import Dropout\n",
    "from keras.layers import *\n",
    "from sklearn.metrics import mean_squared_error\n",
    "from sklearn.metrics import mean_absolute_error\n",
    "from sklearn.model_selection import train_test_split\n",
    "from keras.callbacks import EarlyStopping\n",
    "from sklearn.metrics import r2_score\n",
    "from sklearn.ensemble import AdaBoostRegressor, RandomForestRegressor, GradientBoostingRegressor\n",
    "from joblib import parallel_backend\n",
    "\n",
    "from time import time\n",
    "from tensorflow.keras.callbacks import TensorBoard\n",
    "import warnings\n",
    "warnings.filterwarnings('ignore')"
   ]
  },
  {
   "cell_type": "code",
   "execution_count": 8,
   "id": "516fde1a",
   "metadata": {},
   "outputs": [],
   "source": [
    "from datetime import datetime"
   ]
  },
  {
   "cell_type": "code",
   "execution_count": 89,
   "id": "b6903296",
   "metadata": {},
   "outputs": [],
   "source": [
    "import prettytable"
   ]
  },
  {
   "cell_type": "markdown",
   "id": "21cef353",
   "metadata": {},
   "source": [
    "### Load data"
   ]
  },
  {
   "cell_type": "code",
   "execution_count": null,
   "id": "a5e8c7ad",
   "metadata": {},
   "outputs": [],
   "source": [
    "VIX = pd.read_fwf('VIX.txt', names=['Year', 'Clos'])"
   ]
  },
  {
   "cell_type": "code",
   "execution_count": null,
   "id": "170abf8e",
   "metadata": {
    "scrolled": true
   },
   "outputs": [],
   "source": [
    "VIX.head()"
   ]
  },
  {
   "cell_type": "code",
   "execution_count": 3,
   "id": "679be234",
   "metadata": {},
   "outputs": [],
   "source": [
    "data = pd.read_fwf('SPX.txt', names=['Year', 'Clos'])"
   ]
  },
  {
   "cell_type": "code",
   "execution_count": 4,
   "id": "1cbc7a51",
   "metadata": {},
   "outputs": [
    {
     "data": {
      "text/html": [
       "<div>\n",
       "<style scoped>\n",
       "    .dataframe tbody tr th:only-of-type {\n",
       "        vertical-align: middle;\n",
       "    }\n",
       "\n",
       "    .dataframe tbody tr th {\n",
       "        vertical-align: top;\n",
       "    }\n",
       "\n",
       "    .dataframe thead th {\n",
       "        text-align: right;\n",
       "    }\n",
       "</style>\n",
       "<table border=\"1\" class=\"dataframe\">\n",
       "  <thead>\n",
       "    <tr style=\"text-align: right;\">\n",
       "      <th></th>\n",
       "      <th>Year</th>\n",
       "      <th>Clos</th>\n",
       "    </tr>\n",
       "  </thead>\n",
       "  <tbody>\n",
       "    <tr>\n",
       "      <th>0</th>\n",
       "      <td>06/01/1995</td>\n",
       "      <td>460,68</td>\n",
       "    </tr>\n",
       "    <tr>\n",
       "      <th>1</th>\n",
       "      <td>13/01/1995</td>\n",
       "      <td>465,97</td>\n",
       "    </tr>\n",
       "    <tr>\n",
       "      <th>2</th>\n",
       "      <td>20/01/1995</td>\n",
       "      <td>464,78</td>\n",
       "    </tr>\n",
       "    <tr>\n",
       "      <th>3</th>\n",
       "      <td>27/01/1995</td>\n",
       "      <td>470,39</td>\n",
       "    </tr>\n",
       "    <tr>\n",
       "      <th>4</th>\n",
       "      <td>03/02/1995</td>\n",
       "      <td>478,64</td>\n",
       "    </tr>\n",
       "  </tbody>\n",
       "</table>\n",
       "</div>"
      ],
      "text/plain": [
       "         Year    Clos\n",
       "0  06/01/1995  460,68\n",
       "1  13/01/1995  465,97\n",
       "2  20/01/1995  464,78\n",
       "3  27/01/1995  470,39\n",
       "4  03/02/1995  478,64"
      ]
     },
     "execution_count": 4,
     "metadata": {},
     "output_type": "execute_result"
    }
   ],
   "source": [
    "data.head()"
   ]
  },
  {
   "cell_type": "markdown",
   "id": "ab28ef36",
   "metadata": {},
   "source": [
    "## Data préparation"
   ]
  },
  {
   "cell_type": "markdown",
   "id": "32b4c746",
   "metadata": {},
   "source": [
    "> Using onlye the Clos column"
   ]
  },
  {
   "cell_type": "code",
   "execution_count": 5,
   "id": "02f0e5d2",
   "metadata": {},
   "outputs": [],
   "source": [
    "data['Year'] = pd.to_datetime(data['Year'])\n",
    "#data['Year']= data['Year'].dt.strftime(\"%Y-%m-%d\")"
   ]
  },
  {
   "cell_type": "code",
   "execution_count": 6,
   "id": "a0dcb246",
   "metadata": {},
   "outputs": [],
   "source": [
    "data['Clos'] = data['Clos'].apply(lambda x: x.replace(',', '.'))\n",
    "data['Clos']= data['Clos'].astype(float)"
   ]
  },
  {
   "cell_type": "code",
   "execution_count": 10,
   "id": "a0a94163",
   "metadata": {},
   "outputs": [],
   "source": [
    "interval_data = datetime(2012, 1, 1)"
   ]
  },
  {
   "cell_type": "code",
   "execution_count": 11,
   "id": "90f4c45e",
   "metadata": {},
   "outputs": [],
   "source": [
    "scaler = MinMaxScaler(feature_range=(0,1))"
   ]
  },
  {
   "cell_type": "code",
   "execution_count": 42,
   "id": "d11db72c",
   "metadata": {},
   "outputs": [
    {
     "data": {
      "text/plain": [
       "array([[0.        ],\n",
       "       [0.00206228],\n",
       "       [0.00159837],\n",
       "       ...,\n",
       "       [0.98682323],\n",
       "       [0.97501092],\n",
       "       [0.97122942]])"
      ]
     },
     "execution_count": 42,
     "metadata": {},
     "output_type": "execute_result"
    }
   ],
   "source": [
    "X = np.array(data['Clos'])\n",
    "X = X.reshape((len(data), 1))\n",
    "\n",
    "training_data_len = math.ceil(len(X)* 0.75) # training set has 75% of the data\n",
    "training_data_len\n",
    "\n",
    "\n",
    "sc = MinMaxScaler(feature_range=(0,1))\n",
    "training_data = sc.fit_transform(X)\n",
    "training_data"
   ]
  },
  {
   "cell_type": "markdown",
   "id": "d4923649",
   "metadata": {},
   "source": [
    "<H3 style=\"color: blue\"> Train data </H3>"
   ]
  },
  {
   "cell_type": "code",
   "execution_count": 44,
   "id": "684cb867",
   "metadata": {},
   "outputs": [],
   "source": [
    "train_data_tmp = data[data['Year']<interval_data]"
   ]
  },
  {
   "cell_type": "code",
   "execution_count": 45,
   "id": "6e879985",
   "metadata": {},
   "outputs": [],
   "source": [
    "train = np.array(train_data_tmp['Clos'])\n",
    "\n",
    "train = train.reshape((len(train_data_tmp), 1))"
   ]
  },
  {
   "cell_type": "code",
   "execution_count": 46,
   "id": "4008fa9e",
   "metadata": {},
   "outputs": [],
   "source": [
    "train_data = scaler.fit_transform(train)"
   ]
  },
  {
   "cell_type": "code",
   "execution_count": 47,
   "id": "4cc1caec",
   "metadata": {},
   "outputs": [],
   "source": [
    "x_train = []\n",
    "y_train = []\n",
    "train_data = training_data[0:len(train_data)  , : ]\n",
    "\n",
    "for x in range(180, len(train_data)):\n",
    "    x_train.append(train_data[x-180:x, 0])\n",
    "    y_train.append(train_data[x, 0])\n",
    "\n",
    "x_train, y_train = np.array(x_train), np.array(y_train)\n",
    "x_train = np.reshape(x_train, (x_train.shape[0], x_train.shape[1], 1))"
   ]
  },
  {
   "cell_type": "code",
   "execution_count": 62,
   "id": "15f64b84",
   "metadata": {},
   "outputs": [
    {
     "data": {
      "text/plain": [
       "(707,)"
      ]
     },
     "execution_count": 62,
     "metadata": {},
     "output_type": "execute_result"
    }
   ],
   "source": [
    "y_train.shape"
   ]
  },
  {
   "cell_type": "markdown",
   "id": "c59e4793",
   "metadata": {},
   "source": [
    "<H3 style=\"color: blue\"> Test data </H3>"
   ]
  },
  {
   "cell_type": "code",
   "execution_count": 17,
   "id": "90a6788a",
   "metadata": {},
   "outputs": [],
   "source": [
    "test_data_tmp = data[data['Year']>interval_data]"
   ]
  },
  {
   "cell_type": "code",
   "execution_count": 18,
   "id": "ed7ff063",
   "metadata": {},
   "outputs": [],
   "source": [
    "test = np.array(test_data_tmp['Clos'])\n",
    "\n",
    "test = test.reshape((len(test_data_tmp), 1))"
   ]
  },
  {
   "cell_type": "code",
   "execution_count": 19,
   "id": "69d05909",
   "metadata": {},
   "outputs": [],
   "source": [
    "test_data = scaler.fit_transform(test)"
   ]
  },
  {
   "cell_type": "code",
   "execution_count": 64,
   "id": "26e51117",
   "metadata": {},
   "outputs": [
    {
     "name": "stdout",
     "output_type": "stream",
     "text": [
      "Number of rows and columns:  (405, 180, 1)\n"
     ]
    }
   ],
   "source": [
    "test_data = training_data[len(train_data) - 180: , : ]\n",
    "\n",
    "x_test = []\n",
    "y_test =  X[len(train_data) : , : ]\n",
    "for i in range(180,len(test_data)):\n",
    "    x_test.append(test_data[i-180:i,0])\n",
    "\n",
    "x_test = np.array(x_test)\n",
    "\n",
    "x_test = np.reshape(x_test, (x_test.shape[0],x_test.shape[1],1))\n",
    "print('Number of rows and columns: ', x_test.shape)\n"
   ]
  },
  {
   "cell_type": "code",
   "execution_count": 65,
   "id": "d2ee66ea",
   "metadata": {},
   "outputs": [
    {
     "data": {
      "text/plain": [
       "(405, 1)"
      ]
     },
     "execution_count": 65,
     "metadata": {},
     "output_type": "execute_result"
    }
   ],
   "source": [
    "y_test.shape"
   ]
  },
  {
   "cell_type": "markdown",
   "id": "a50c35fa",
   "metadata": {},
   "source": [
    "<H1 style=\"color: red; text-align:center\"> Models </H1>"
   ]
  },
  {
   "cell_type": "markdown",
   "id": "ea745d36",
   "metadata": {},
   "source": [
    "## LSTM"
   ]
  },
  {
   "cell_type": "code",
   "execution_count": 66,
   "id": "ebf447fa",
   "metadata": {},
   "outputs": [],
   "source": [
    "model = Sequential()"
   ]
  },
  {
   "cell_type": "code",
   "execution_count": 67,
   "id": "59a62dfc",
   "metadata": {},
   "outputs": [],
   "source": [
    "model.add(LSTM(units=50, return_sequences=True, input_shape=(x_train.shape[1], 1)))\n",
    "model.add(Dropout(0.2))"
   ]
  },
  {
   "cell_type": "code",
   "execution_count": 68,
   "id": "75db3fb0",
   "metadata": {},
   "outputs": [],
   "source": [
    "model.add(LSTM(units = 50, return_sequences = True))\n",
    "model.add(Dropout(0.2))\n",
    "\n",
    "model.add(LSTM(units = 50, return_sequences = True))\n",
    "model.add(Dropout(0.2))\n",
    "\n",
    "model.add(LSTM(units = 50))\n",
    "#model.add(Dropout(0.3))\n",
    "\n",
    "model.add(Dense(units = 1))\n",
    "\n",
    "model.compile(optimizer = 'adam', loss = 'mean_squared_error')"
   ]
  },
  {
   "cell_type": "code",
   "execution_count": 71,
   "id": "aeef48c7",
   "metadata": {
    "collapsed": true
   },
   "outputs": [
    {
     "name": "stdout",
     "output_type": "stream",
     "text": [
      "Epoch 1/100\n",
      "23/23 [==============================] - 31s 520ms/step - loss: 0.0141\n",
      "Epoch 2/100\n",
      "23/23 [==============================] - 12s 517ms/step - loss: 0.0026\n",
      "Epoch 3/100\n",
      "23/23 [==============================] - 12s 522ms/step - loss: 0.0021\n",
      "Epoch 4/100\n",
      "23/23 [==============================] - 12s 526ms/step - loss: 0.0017\n",
      "Epoch 5/100\n",
      "23/23 [==============================] - 11s 487ms/step - loss: 0.0014\n",
      "Epoch 6/100\n",
      "23/23 [==============================] - 10s 439ms/step - loss: 0.0013\n",
      "Epoch 7/100\n",
      "23/23 [==============================] - 12s 519ms/step - loss: 0.0013\n",
      "Epoch 8/100\n",
      "23/23 [==============================] - 12s 508ms/step - loss: 0.0013\n",
      "Epoch 9/100\n",
      "23/23 [==============================] - 12s 515ms/step - loss: 0.0011\n",
      "Epoch 10/100\n",
      "23/23 [==============================] - 12s 538ms/step - loss: 0.0011\n",
      "Epoch 11/100\n",
      "23/23 [==============================] - 13s 547ms/step - loss: 0.0011\n",
      "Epoch 12/100\n",
      "23/23 [==============================] - 11s 497ms/step - loss: 0.0012\n",
      "Epoch 13/100\n",
      "23/23 [==============================] - 9s 395ms/step - loss: 9.8896e-04\n",
      "Epoch 14/100\n",
      "23/23 [==============================] - 9s 401ms/step - loss: 0.0011\n",
      "Epoch 15/100\n",
      "23/23 [==============================] - 11s 462ms/step - loss: 0.0011\n",
      "Epoch 16/100\n",
      "23/23 [==============================] - 10s 452ms/step - loss: 0.0011\n",
      "Epoch 17/100\n",
      "23/23 [==============================] - 12s 514ms/step - loss: 9.3245e-04\n",
      "Epoch 18/100\n",
      "23/23 [==============================] - 11s 498ms/step - loss: 0.0011\n",
      "Epoch 19/100\n",
      "23/23 [==============================] - 11s 491ms/step - loss: 9.2746e-04\n",
      "Epoch 20/100\n",
      "23/23 [==============================] - 11s 470ms/step - loss: 8.5689e-04\n",
      "Epoch 21/100\n",
      "23/23 [==============================] - 11s 475ms/step - loss: 7.9190e-04\n",
      "Epoch 22/100\n",
      "23/23 [==============================] - 11s 493ms/step - loss: 8.2982e-04\n",
      "Epoch 23/100\n",
      "23/23 [==============================] - 11s 492ms/step - loss: 9.2595e-04\n",
      "Epoch 24/100\n",
      "23/23 [==============================] - 11s 495ms/step - loss: 8.0120e-04\n",
      "Epoch 25/100\n",
      "23/23 [==============================] - 11s 497ms/step - loss: 8.2380e-04\n",
      "Epoch 26/100\n",
      "23/23 [==============================] - 11s 496ms/step - loss: 8.1119e-04\n",
      "Epoch 27/100\n",
      "23/23 [==============================] - 12s 516ms/step - loss: 7.8582e-04\n",
      "Epoch 28/100\n",
      "23/23 [==============================] - 12s 514ms/step - loss: 9.2286e-04\n",
      "Epoch 29/100\n",
      "23/23 [==============================] - 11s 498ms/step - loss: 7.0174e-04\n",
      "Epoch 30/100\n",
      "23/23 [==============================] - 12s 512ms/step - loss: 7.1539e-04\n",
      "Epoch 31/100\n",
      "23/23 [==============================] - 12s 511ms/step - loss: 7.3644e-04\n",
      "Epoch 32/100\n",
      "23/23 [==============================] - 12s 502ms/step - loss: 7.3187e-04\n",
      "Epoch 33/100\n",
      "23/23 [==============================] - 12s 503ms/step - loss: 6.7897e-04\n",
      "Epoch 34/100\n",
      "23/23 [==============================] - 12s 521ms/step - loss: 6.8843e-04\n",
      "Epoch 35/100\n",
      "23/23 [==============================] - 11s 497ms/step - loss: 7.4908e-04\n",
      "Epoch 36/100\n",
      "23/23 [==============================] - 7s 286ms/step - loss: 6.4822e-04\n",
      "Epoch 37/100\n",
      "23/23 [==============================] - 6s 265ms/step - loss: 6.5813e-04\n",
      "Epoch 38/100\n",
      "23/23 [==============================] - 6s 263ms/step - loss: 6.8250e-04\n",
      "Epoch 39/100\n",
      "23/23 [==============================] - 7s 293ms/step - loss: 7.4360e-04\n",
      "Epoch 40/100\n",
      "23/23 [==============================] - 7s 302ms/step - loss: 6.6849e-04\n",
      "Epoch 41/100\n",
      "23/23 [==============================] - 7s 291ms/step - loss: 6.1283e-04\n",
      "Epoch 42/100\n",
      "23/23 [==============================] - 7s 298ms/step - loss: 6.5213e-04\n",
      "Epoch 43/100\n",
      "23/23 [==============================] - 7s 302ms/step - loss: 5.6936e-04\n",
      "Epoch 44/100\n",
      "23/23 [==============================] - 6s 266ms/step - loss: 5.9962e-04\n",
      "Epoch 45/100\n",
      "23/23 [==============================] - 7s 292ms/step - loss: 6.2036e-04\n",
      "Epoch 46/100\n",
      "23/23 [==============================] - 6s 283ms/step - loss: 5.8050e-04\n",
      "Epoch 47/100\n",
      "23/23 [==============================] - 6s 266ms/step - loss: 5.9765e-04\n",
      "Epoch 48/100\n",
      "23/23 [==============================] - 6s 282ms/step - loss: 6.0442e-04\n",
      "Epoch 49/100\n",
      "23/23 [==============================] - 7s 290ms/step - loss: 5.8741e-04\n",
      "Epoch 50/100\n",
      "23/23 [==============================] - 7s 316ms/step - loss: 5.9975e-04\n",
      "Epoch 51/100\n",
      "23/23 [==============================] - 7s 283ms/step - loss: 5.9387e-04\n",
      "Epoch 52/100\n",
      "23/23 [==============================] - 7s 297ms/step - loss: 5.6931e-04\n",
      "Epoch 53/100\n",
      "23/23 [==============================] - 6s 262ms/step - loss: 5.0823e-04\n",
      "Epoch 54/100\n",
      "23/23 [==============================] - 7s 297ms/step - loss: 4.8593e-04\n",
      "Epoch 55/100\n",
      "23/23 [==============================] - 7s 284ms/step - loss: 5.4831e-04\n",
      "Epoch 56/100\n",
      "23/23 [==============================] - 6s 271ms/step - loss: 5.1275e-04\n",
      "Epoch 57/100\n",
      "23/23 [==============================] - 7s 284ms/step - loss: 5.1819e-04\n",
      "Epoch 58/100\n",
      "23/23 [==============================] - 7s 291ms/step - loss: 4.7199e-04\n",
      "Epoch 59/100\n",
      "23/23 [==============================] - 7s 291ms/step - loss: 4.8757e-04\n",
      "Epoch 60/100\n",
      "23/23 [==============================] - 7s 291ms/step - loss: 6.9932e-04\n",
      "Epoch 61/100\n",
      "23/23 [==============================] - 7s 297ms/step - loss: 5.4803e-04\n",
      "Epoch 62/100\n",
      "23/23 [==============================] - 7s 324ms/step - loss: 5.3361e-04\n",
      "Epoch 63/100\n",
      "23/23 [==============================] - 7s 303ms/step - loss: 4.0615e-04\n",
      "Epoch 64/100\n",
      "23/23 [==============================] - 7s 317ms/step - loss: 4.4162e-04\n",
      "Epoch 65/100\n",
      "23/23 [==============================] - 8s 358ms/step - loss: 3.8994e-04\n",
      "Epoch 66/100\n",
      "23/23 [==============================] - 8s 367ms/step - loss: 4.0619e-04\n",
      "Epoch 67/100\n",
      "23/23 [==============================] - 9s 397ms/step - loss: 4.1316e-04\n",
      "Epoch 68/100\n",
      "23/23 [==============================] - 9s 410ms/step - loss: 3.9806e-04\n",
      "Epoch 69/100\n",
      "23/23 [==============================] - 9s 392ms/step - loss: 4.4476e-04\n",
      "Epoch 70/100\n",
      "23/23 [==============================] - 9s 403ms/step - loss: 3.7398e-04\n",
      "Epoch 71/100\n",
      "23/23 [==============================] - 9s 399ms/step - loss: 3.8071e-04\n",
      "Epoch 72/100\n",
      "23/23 [==============================] - 9s 384ms/step - loss: 3.8594e-04\n",
      "Epoch 73/100\n",
      "23/23 [==============================] - 9s 371ms/step - loss: 3.9407e-04\n",
      "Epoch 74/100\n",
      "23/23 [==============================] - 8s 362ms/step - loss: 3.9926e-04\n",
      "Epoch 75/100\n",
      "23/23 [==============================] - 8s 336ms/step - loss: 3.5477e-04\n",
      "Epoch 76/100\n",
      "23/23 [==============================] - 8s 336ms/step - loss: 3.6389e-04\n",
      "Epoch 77/100\n",
      "23/23 [==============================] - 9s 412ms/step - loss: 3.9367e-04\n",
      "Epoch 78/100\n",
      "23/23 [==============================] - 9s 407ms/step - loss: 3.4825e-04\n",
      "Epoch 79/100\n",
      "23/23 [==============================] - 9s 374ms/step - loss: 3.6067e-04\n",
      "Epoch 80/100\n",
      "23/23 [==============================] - 8s 354ms/step - loss: 3.4432e-04\n",
      "Epoch 81/100\n",
      "23/23 [==============================] - 9s 373ms/step - loss: 3.4603e-04\n",
      "Epoch 82/100\n",
      "23/23 [==============================] - 8s 342ms/step - loss: 3.5195e-04\n",
      "Epoch 83/100\n",
      "23/23 [==============================] - 8s 336ms/step - loss: 3.3019e-04\n",
      "Epoch 84/100\n",
      "23/23 [==============================] - 8s 342ms/step - loss: 3.3694e-04\n",
      "Epoch 85/100\n",
      "23/23 [==============================] - 8s 343ms/step - loss: 3.2383e-04\n",
      "Epoch 86/100\n",
      "23/23 [==============================] - 8s 340ms/step - loss: 3.1371e-04\n",
      "Epoch 87/100\n",
      "23/23 [==============================] - 8s 331ms/step - loss: 3.1673e-04\n",
      "Epoch 88/100\n",
      "23/23 [==============================] - 8s 337ms/step - loss: 2.9565e-04\n",
      "Epoch 89/100\n",
      "23/23 [==============================] - 8s 331ms/step - loss: 3.2117e-04\n",
      "Epoch 90/100\n",
      "23/23 [==============================] - 7s 322ms/step - loss: 3.0275e-04\n",
      "Epoch 91/100\n",
      "23/23 [==============================] - 8s 328ms/step - loss: 2.8878e-04\n",
      "Epoch 92/100\n",
      "23/23 [==============================] - 7s 315ms/step - loss: 3.2455e-04\n",
      "Epoch 93/100\n",
      "23/23 [==============================] - 7s 323ms/step - loss: 2.9609e-04\n",
      "Epoch 94/100\n",
      "23/23 [==============================] - 8s 354ms/step - loss: 3.2274e-04\n",
      "Epoch 95/100\n"
     ]
    },
    {
     "name": "stdout",
     "output_type": "stream",
     "text": [
      "23/23 [==============================] - 8s 368ms/step - loss: 3.2334e-04\n",
      "Epoch 96/100\n",
      "23/23 [==============================] - 8s 362ms/step - loss: 3.3595e-04\n",
      "Epoch 97/100\n",
      "23/23 [==============================] - 8s 335ms/step - loss: 2.8752e-04\n",
      "Epoch 98/100\n",
      "23/23 [==============================] - 7s 325ms/step - loss: 3.0949e-04\n",
      "Epoch 99/100\n",
      "23/23 [==============================] - 8s 346ms/step - loss: 3.0552e-04\n",
      "Epoch 100/100\n",
      "23/23 [==============================] - 7s 309ms/step - loss: 3.2531e-04\n"
     ]
    }
   ],
   "source": [
    "History = model.fit(x_train, y_train, epochs = 100, batch_size = 32)"
   ]
  },
  {
   "cell_type": "markdown",
   "id": "749148f5",
   "metadata": {},
   "source": [
    "***\n",
    "#### Test"
   ]
  },
  {
   "cell_type": "code",
   "execution_count": 97,
   "id": "603a2a5a",
   "metadata": {},
   "outputs": [
    {
     "name": "stdout",
     "output_type": "stream",
     "text": [
      "13/13 [==============================] - 2s 127ms/step\n"
     ]
    }
   ],
   "source": [
    "lstm_predicted_stock = model.predict(x_test)\n",
    "lstm_predicted_stock = scaler.inverse_transform(lstm_predicted_stock)"
   ]
  },
  {
   "cell_type": "code",
   "execution_count": 98,
   "id": "806a12e4",
   "metadata": {},
   "outputs": [
    {
     "name": "stdout",
     "output_type": "stream",
     "text": [
      "-3.469186837137708\n",
      "975.7716299250095\n",
      "1031984.4089097234\n"
     ]
    }
   ],
   "source": [
    "print(r2_score(y_test, lstm_predicted_stock))\n",
    "print(mean_absolute_error(y_test, lstm_predicted_stock))\n",
    "print(mean_squared_error(y_test, lstm_predicted_stock))"
   ]
  },
  {
   "cell_type": "markdown",
   "id": "ba0cf0d2",
   "metadata": {},
   "source": [
    "### GRU Model"
   ]
  },
  {
   "cell_type": "code",
   "execution_count": 74,
   "id": "61a27bbb",
   "metadata": {
    "collapsed": true
   },
   "outputs": [
    {
     "name": "stdout",
     "output_type": "stream",
     "text": [
      "Epoch 1/100\n",
      "23/23 [==============================] - 38s 873ms/step - loss: 0.0187\n",
      "Epoch 2/100\n",
      "23/23 [==============================] - 20s 867ms/step - loss: 0.0061\n",
      "Epoch 3/100\n",
      "23/23 [==============================] - 20s 873ms/step - loss: 0.0053\n",
      "Epoch 4/100\n",
      "23/23 [==============================] - 20s 866ms/step - loss: 0.0049\n",
      "Epoch 5/100\n",
      "23/23 [==============================] - 20s 888ms/step - loss: 0.0025\n",
      "Epoch 6/100\n",
      "23/23 [==============================] - 23s 1s/step - loss: 0.0023\n",
      "Epoch 7/100\n",
      "23/23 [==============================] - 24s 1s/step - loss: 0.0019\n",
      "Epoch 8/100\n",
      "23/23 [==============================] - 28s 1s/step - loss: 0.0017\n",
      "Epoch 9/100\n",
      "23/23 [==============================] - 33s 1s/step - loss: 0.0016\n",
      "Epoch 10/100\n",
      "23/23 [==============================] - 34s 1s/step - loss: 0.0015\n",
      "Epoch 11/100\n",
      "23/23 [==============================] - 31s 1s/step - loss: 0.0018\n",
      "Epoch 12/100\n",
      "23/23 [==============================] - 28s 1s/step - loss: 0.0015\n",
      "Epoch 13/100\n",
      "23/23 [==============================] - 23s 999ms/step - loss: 0.0013\n",
      "Epoch 14/100\n",
      "23/23 [==============================] - 23s 990ms/step - loss: 0.0014\n",
      "Epoch 15/100\n",
      "23/23 [==============================] - 26s 1s/step - loss: 0.0013\n",
      "Epoch 16/100\n",
      "23/23 [==============================] - 23s 1s/step - loss: 0.0013\n",
      "Epoch 17/100\n",
      "23/23 [==============================] - 24s 1s/step - loss: 0.0015\n",
      "Epoch 18/100\n",
      "23/23 [==============================] - 24s 1s/step - loss: 0.0013\n",
      "Epoch 19/100\n",
      "23/23 [==============================] - 25s 1s/step - loss: 0.0013\n",
      "Epoch 20/100\n",
      "23/23 [==============================] - 25s 1s/step - loss: 0.0012\n",
      "Epoch 21/100\n",
      "23/23 [==============================] - 25s 1s/step - loss: 0.0012\n",
      "Epoch 22/100\n",
      "23/23 [==============================] - 26s 1s/step - loss: 0.0012\n",
      "Epoch 23/100\n",
      "23/23 [==============================] - 26s 1s/step - loss: 0.0012\n",
      "Epoch 24/100\n",
      "23/23 [==============================] - 26s 1s/step - loss: 0.0011\n",
      "Epoch 25/100\n",
      "23/23 [==============================] - 26s 1s/step - loss: 0.0011\n",
      "Epoch 26/100\n",
      "23/23 [==============================] - 28s 1s/step - loss: 0.0011\n",
      "Epoch 27/100\n",
      "23/23 [==============================] - 26s 1s/step - loss: 0.0012\n",
      "Epoch 28/100\n",
      "23/23 [==============================] - 27s 1s/step - loss: 0.0013\n",
      "Epoch 29/100\n",
      "23/23 [==============================] - 26s 1s/step - loss: 0.0010\n",
      "Epoch 30/100\n",
      "23/23 [==============================] - 25s 1s/step - loss: 0.0011\n",
      "Epoch 31/100\n",
      "23/23 [==============================] - 27s 1s/step - loss: 0.0011\n",
      "Epoch 32/100\n",
      "23/23 [==============================] - 26s 1s/step - loss: 0.0012\n",
      "Epoch 33/100\n",
      "23/23 [==============================] - 26s 1s/step - loss: 0.0010\n",
      "Epoch 34/100\n",
      "23/23 [==============================] - 33s 1s/step - loss: 8.7355e-04\n",
      "Epoch 35/100\n",
      "23/23 [==============================] - 28s 1s/step - loss: 8.6039e-04\n",
      "Epoch 36/100\n",
      "23/23 [==============================] - 32s 1s/step - loss: 8.9300e-04\n",
      "Epoch 37/100\n",
      "23/23 [==============================] - 38s 2s/step - loss: 7.6382e-04\n",
      "Epoch 38/100\n",
      "23/23 [==============================] - 32s 1s/step - loss: 8.5722e-04\n",
      "Epoch 39/100\n",
      "23/23 [==============================] - 33s 1s/step - loss: 7.7704e-04\n",
      "Epoch 40/100\n",
      "23/23 [==============================] - 35s 2s/step - loss: 9.5214e-04\n",
      "Epoch 41/100\n",
      "23/23 [==============================] - 34s 1s/step - loss: 0.0010\n",
      "Epoch 42/100\n",
      "23/23 [==============================] - 35s 2s/step - loss: 7.8944e-04\n",
      "Epoch 43/100\n",
      "23/23 [==============================] - 35s 2s/step - loss: 8.1401e-04\n",
      "Epoch 44/100\n",
      "23/23 [==============================] - 32s 1s/step - loss: 7.5384e-04\n",
      "Epoch 45/100\n",
      "23/23 [==============================] - 32s 1s/step - loss: 9.7761e-04\n",
      "Epoch 46/100\n",
      "23/23 [==============================] - 30s 1s/step - loss: 9.5006e-04\n",
      "Epoch 47/100\n",
      "23/23 [==============================] - 30s 1s/step - loss: 8.0451e-04\n",
      "Epoch 48/100\n",
      "23/23 [==============================] - 31s 1s/step - loss: 7.8678e-04\n",
      "Epoch 49/100\n",
      "23/23 [==============================] - 30s 1s/step - loss: 7.9412e-04\n",
      "Epoch 50/100\n",
      "23/23 [==============================] - 31s 1s/step - loss: 7.1354e-04\n",
      "Epoch 51/100\n",
      "23/23 [==============================] - 30s 1s/step - loss: 8.4281e-04\n",
      "Epoch 52/100\n",
      "23/23 [==============================] - 31s 1s/step - loss: 7.1137e-04\n",
      "Epoch 53/100\n",
      "23/23 [==============================] - 32s 1s/step - loss: 7.5185e-04\n",
      "Epoch 54/100\n",
      "23/23 [==============================] - 30s 1s/step - loss: 6.5449e-04\n",
      "Epoch 55/100\n",
      "23/23 [==============================] - 31s 1s/step - loss: 7.4598e-04\n",
      "Epoch 56/100\n",
      "23/23 [==============================] - 31s 1s/step - loss: 6.0156e-04\n",
      "Epoch 57/100\n",
      "23/23 [==============================] - 30s 1s/step - loss: 6.6300e-04\n",
      "Epoch 58/100\n",
      "23/23 [==============================] - 30s 1s/step - loss: 6.4537e-04\n",
      "Epoch 59/100\n",
      "23/23 [==============================] - 30s 1s/step - loss: 7.5107e-04\n",
      "Epoch 60/100\n",
      "23/23 [==============================] - 30s 1s/step - loss: 7.1023e-04\n",
      "Epoch 61/100\n",
      "23/23 [==============================] - 31s 1s/step - loss: 7.1033e-04\n",
      "Epoch 62/100\n",
      "23/23 [==============================] - 34s 1s/step - loss: 7.2147e-04\n",
      "Epoch 63/100\n",
      "23/23 [==============================] - 31s 1s/step - loss: 5.9517e-04\n",
      "Epoch 64/100\n",
      "23/23 [==============================] - 30s 1s/step - loss: 6.1844e-04\n",
      "Epoch 65/100\n",
      "23/23 [==============================] - 30s 1s/step - loss: 6.2518e-04\n",
      "Epoch 66/100\n",
      "23/23 [==============================] - 31s 1s/step - loss: 5.6799e-04\n",
      "Epoch 67/100\n",
      "23/23 [==============================] - 30s 1s/step - loss: 6.0472e-04\n",
      "Epoch 68/100\n",
      "23/23 [==============================] - 30s 1s/step - loss: 5.8669e-04\n",
      "Epoch 69/100\n",
      "23/23 [==============================] - 31s 1s/step - loss: 6.4170e-04\n",
      "Epoch 70/100\n",
      "23/23 [==============================] - 32s 1s/step - loss: 6.4217e-04\n",
      "Epoch 71/100\n",
      "23/23 [==============================] - 31s 1s/step - loss: 7.1293e-04\n",
      "Epoch 72/100\n",
      "23/23 [==============================] - 30s 1s/step - loss: 6.1663e-04\n",
      "Epoch 73/100\n",
      "23/23 [==============================] - 34s 2s/step - loss: 5.2983e-04\n",
      "Epoch 74/100\n",
      "23/23 [==============================] - 33s 1s/step - loss: 5.8882e-04\n",
      "Epoch 75/100\n",
      "23/23 [==============================] - 34s 1s/step - loss: 5.4212e-04\n",
      "Epoch 76/100\n",
      "23/23 [==============================] - 33s 1s/step - loss: 5.1974e-04\n",
      "Epoch 77/100\n",
      "23/23 [==============================] - 34s 1s/step - loss: 5.2132e-04\n",
      "Epoch 78/100\n",
      "23/23 [==============================] - 33s 1s/step - loss: 5.0669e-04\n",
      "Epoch 79/100\n",
      "23/23 [==============================] - 33s 1s/step - loss: 5.6282e-04\n",
      "Epoch 80/100\n",
      "23/23 [==============================] - 34s 1s/step - loss: 5.8830e-04\n",
      "Epoch 81/100\n",
      "23/23 [==============================] - 36s 2s/step - loss: 5.4589e-04\n",
      "Epoch 82/100\n",
      "23/23 [==============================] - 37s 2s/step - loss: 6.4369e-04\n",
      "Epoch 83/100\n",
      "23/23 [==============================] - 35s 2s/step - loss: 5.3935e-04\n",
      "Epoch 84/100\n",
      "23/23 [==============================] - 35s 2s/step - loss: 4.9580e-04\n",
      "Epoch 85/100\n",
      "23/23 [==============================] - 35s 2s/step - loss: 5.3828e-04\n",
      "Epoch 86/100\n",
      "23/23 [==============================] - 34s 1s/step - loss: 5.3702e-04\n",
      "Epoch 87/100\n",
      "23/23 [==============================] - 35s 2s/step - loss: 4.6786e-04\n",
      "Epoch 88/100\n",
      "23/23 [==============================] - 35s 2s/step - loss: 4.1632e-04\n",
      "Epoch 89/100\n",
      "23/23 [==============================] - 35s 2s/step - loss: 5.9844e-04\n",
      "Epoch 90/100\n",
      "23/23 [==============================] - 34s 1s/step - loss: 4.9613e-04\n",
      "Epoch 91/100\n",
      "23/23 [==============================] - 31s 1s/step - loss: 5.1454e-04\n",
      "Epoch 92/100\n",
      "23/23 [==============================] - 31s 1s/step - loss: 4.7183e-04\n",
      "Epoch 93/100\n",
      "23/23 [==============================] - 30s 1s/step - loss: 5.3505e-04\n",
      "Epoch 94/100\n",
      "23/23 [==============================] - 31s 1s/step - loss: 5.2944e-04\n",
      "Epoch 95/100\n",
      "23/23 [==============================] - 38s 2s/step - loss: 5.1206e-04\n",
      "Epoch 96/100\n",
      "23/23 [==============================] - 41s 2s/step - loss: 4.4890e-04\n",
      "Epoch 97/100\n",
      "23/23 [==============================] - 40s 2s/step - loss: 4.0357e-04\n",
      "Epoch 98/100\n"
     ]
    },
    {
     "name": "stdout",
     "output_type": "stream",
     "text": [
      "23/23 [==============================] - 50s 2s/step - loss: 4.0759e-04\n",
      "Epoch 99/100\n",
      "23/23 [==============================] - 38s 2s/step - loss: 5.5028e-04\n",
      "Epoch 100/100\n",
      "23/23 [==============================] - 35s 2s/step - loss: 4.9207e-04\n"
     ]
    },
    {
     "data": {
      "text/plain": [
       "<keras.callbacks.History at 0x20240ac6fd0>"
      ]
     },
     "execution_count": 74,
     "metadata": {},
     "output_type": "execute_result"
    }
   ],
   "source": [
    "model_GRU = Sequential()\n",
    "\n",
    "model_GRU.add(LSTM(units = 200, return_sequences = True, input_shape = (x_train.shape[1], 1)))\n",
    "model_GRU.add(Dropout(0.2))\n",
    "\n",
    "# Adding a second LSTM layer and some Dropout regularisation\n",
    "model_GRU.add(GRU(units = 50, return_sequences = True))\n",
    "model_GRU.add(Dropout(0.2))\n",
    "\n",
    "model_GRU.add(GRU(units = 50, return_sequences = True))\n",
    "model_GRU.add(Dropout(0.2))\n",
    "\n",
    "model_GRU.add(GRU(units = 50, return_sequences=True))\n",
    "model_GRU.add(Dropout(0.2))\n",
    "\n",
    "model_GRU.add(GRU(units = 50, return_sequences=True))\n",
    "model_GRU.add(Dropout(0.2))\n",
    "\n",
    "model_GRU.add(GRU(units = 50, return_sequences=True))\n",
    "model_GRU.add(Dropout(0.2))\n",
    "\n",
    "model_GRU.add(GRU(units = 50))\n",
    "model_GRU.add(Dropout(0.2))\n",
    "\n",
    "# Adding the output layer\n",
    "model_GRU.add(Dense(units = 1))\n",
    "\n",
    "# Compiling the network\n",
    "model_GRU.compile(\n",
    "    optimizer = 'adam', \n",
    "    loss = 'mean_squared_error')\n",
    "\n",
    "# Fitting the network to the Training set\n",
    "model_GRU.fit(x_train, y_train, epochs = 100, batch_size = 32)"
   ]
  },
  {
   "cell_type": "code",
   "execution_count": 99,
   "id": "7476203a",
   "metadata": {
    "scrolled": true
   },
   "outputs": [
    {
     "name": "stdout",
     "output_type": "stream",
     "text": [
      "13/13 [==============================] - 3s 246ms/step\n"
     ]
    },
    {
     "data": {
      "text/plain": [
       "-3.6198855783597166"
      ]
     },
     "execution_count": 99,
     "metadata": {},
     "output_type": "execute_result"
    }
   ],
   "source": [
    "gru_predicted_stock = model_GRU.predict(x_test)\n",
    "gru_predicted_stock = scaler.inverse_transform(gru_predicted_stock)\n",
    "\n",
    "score = r2_score(y_test, gru_predicted_stock)\n",
    "score"
   ]
  },
  {
   "cell_type": "code",
   "execution_count": 100,
   "id": "2fde4936",
   "metadata": {},
   "outputs": [],
   "source": [
    "train = data[:len(train_data)]\n",
    "valid = data[len(train_data):]\n",
    "valid['Predictions'] = gru_predicted_stock"
   ]
  },
  {
   "cell_type": "code",
   "execution_count": 79,
   "id": "f156a663",
   "metadata": {
    "scrolled": true
   },
   "outputs": [
    {
     "data": {
      "image/png": "[encoded data removed]",
      "text/plain": [
       "<Figure size 1152x576 with 1 Axes>"
      ]
     },
     "metadata": {
      "needs_background": "light"
     },
     "output_type": "display_data"
    }
   ],
   "source": [
    "plt.figure(figsize=(16,8))\n",
    "plt.title('Model')\n",
    "plt.xlabel('Date', fontsize=8)\n",
    "plt.ylabel('SPX', fontsize=12)\n",
    "plt.plot(train['Clos'])\n",
    "plt.plot(valid[['Clos', 'Predictions']])\n",
    "plt.legend(['Train', 'Val', 'Predictions'], loc='lower right')\n",
    "plt.show()"
   ]
  },
  {
   "cell_type": "code",
   "execution_count": null,
   "id": "40a01b82",
   "metadata": {},
   "outputs": [],
   "source": []
  },
  {
   "cell_type": "markdown",
   "id": "f2745e4e",
   "metadata": {},
   "source": [
    "## CNN Model"
   ]
  },
  {
   "cell_type": "code",
   "execution_count": 80,
   "id": "454db523",
   "metadata": {},
   "outputs": [],
   "source": [
    "from keras.models import Sequential\n",
    "from keras.layers import Conv1D, MaxPooling1D, Flatten, Dense\n",
    "\n",
    "input_shape = (x_train.shape[1], 1)\n",
    "num_classes = 2\n",
    "\n",
    "CNN = Sequential()\n",
    "CNN.add(Conv1D(filters=64, kernel_size=3, activation='relu', input_shape=input_shape))\n",
    "CNN.add(MaxPooling1D(pool_size=2))\n",
    "CNN.add(LSTM(units=50, return_sequences=True))\n",
    "CNN.add(Dropout(0.2))\n",
    "CNN.add(Flatten())\n",
    "CNN.add(Dense(1, activation='relu'))"
   ]
  },
  {
   "cell_type": "code",
   "execution_count": 82,
   "id": "e91502a7",
   "metadata": {
    "scrolled": true
   },
   "outputs": [
    {
     "name": "stdout",
     "output_type": "stream",
     "text": [
      "Epoch 1/100\n",
      "23/23 [==============================] - 6s 99ms/step - loss: 0.0134 - accuracy: 0.0000e+00 - val_loss: 4742692.5000 - val_accuracy: 0.0000e+00\n",
      "Epoch 2/100\n",
      "23/23 [==============================] - 1s 65ms/step - loss: 0.0030 - accuracy: 0.0000e+00 - val_loss: 4742573.0000 - val_accuracy: 0.0000e+00\n",
      "Epoch 3/100\n",
      "23/23 [==============================] - 2s 66ms/step - loss: 0.0024 - accuracy: 0.0000e+00 - val_loss: 4742844.0000 - val_accuracy: 0.0000e+00\n",
      "Epoch 4/100\n",
      "23/23 [==============================] - 2s 66ms/step - loss: 0.0018 - accuracy: 0.0000e+00 - val_loss: 4742849.5000 - val_accuracy: 0.0000e+00\n",
      "Epoch 5/100\n",
      "23/23 [==============================] - 1s 63ms/step - loss: 0.0019 - accuracy: 0.0000e+00 - val_loss: 4742637.5000 - val_accuracy: 0.0000e+00\n",
      "Epoch 6/100\n",
      "23/23 [==============================] - 1s 64ms/step - loss: 0.0014 - accuracy: 0.0000e+00 - val_loss: 4742635.0000 - val_accuracy: 0.0000e+00\n",
      "Epoch 7/100\n",
      "23/23 [==============================] - 1s 62ms/step - loss: 0.0016 - accuracy: 0.0000e+00 - val_loss: 4742538.0000 - val_accuracy: 0.0000e+00\n",
      "Epoch 8/100\n",
      "23/23 [==============================] - 1s 62ms/step - loss: 0.0012 - accuracy: 0.0000e+00 - val_loss: 4742842.5000 - val_accuracy: 0.0000e+00\n",
      "Epoch 9/100\n",
      "23/23 [==============================] - 1s 62ms/step - loss: 0.0014 - accuracy: 0.0000e+00 - val_loss: 4742635.0000 - val_accuracy: 0.0000e+00\n",
      "Epoch 10/100\n",
      "23/23 [==============================] - 1s 61ms/step - loss: 0.0011 - accuracy: 0.0000e+00 - val_loss: 4742571.0000 - val_accuracy: 0.0000e+00\n",
      "Epoch 11/100\n",
      "23/23 [==============================] - 2s 68ms/step - loss: 0.0010 - accuracy: 0.0000e+00 - val_loss: 4742705.5000 - val_accuracy: 0.0000e+00\n",
      "Epoch 12/100\n",
      "23/23 [==============================] - 1s 64ms/step - loss: 0.0011 - accuracy: 0.0000e+00 - val_loss: 4742695.5000 - val_accuracy: 0.0000e+00\n",
      "Epoch 13/100\n",
      "23/23 [==============================] - 2s 73ms/step - loss: 9.2492e-04 - accuracy: 0.0000e+00 - val_loss: 4742582.5000 - val_accuracy: 0.0000e+00\n",
      "Epoch 14/100\n",
      "23/23 [==============================] - 2s 79ms/step - loss: 8.3376e-04 - accuracy: 0.0000e+00 - val_loss: 4742618.0000 - val_accuracy: 0.0000e+00\n",
      "Epoch 15/100\n",
      "23/23 [==============================] - 2s 70ms/step - loss: 8.8155e-04 - accuracy: 0.0000e+00 - val_loss: 4742519.0000 - val_accuracy: 0.0000e+00\n",
      "Epoch 16/100\n",
      "23/23 [==============================] - 2s 70ms/step - loss: 8.1775e-04 - accuracy: 0.0000e+00 - val_loss: 4742525.5000 - val_accuracy: 0.0000e+00\n",
      "Epoch 17/100\n",
      "23/23 [==============================] - 2s 68ms/step - loss: 7.6770e-04 - accuracy: 0.0000e+00 - val_loss: 4742612.0000 - val_accuracy: 0.0000e+00\n",
      "Epoch 18/100\n",
      "23/23 [==============================] - 2s 72ms/step - loss: 8.3433e-04 - accuracy: 0.0000e+00 - val_loss: 4742370.5000 - val_accuracy: 0.0000e+00\n",
      "Epoch 19/100\n",
      "23/23 [==============================] - 1s 64ms/step - loss: 9.2598e-04 - accuracy: 0.0000e+00 - val_loss: 4742505.0000 - val_accuracy: 0.0000e+00\n",
      "Epoch 20/100\n",
      "23/23 [==============================] - 2s 73ms/step - loss: 7.9549e-04 - accuracy: 0.0000e+00 - val_loss: 4742579.5000 - val_accuracy: 0.0000e+00\n",
      "Epoch 21/100\n",
      "23/23 [==============================] - 2s 71ms/step - loss: 8.6062e-04 - accuracy: 0.0000e+00 - val_loss: 4742342.0000 - val_accuracy: 0.0000e+00\n",
      "Epoch 22/100\n",
      "23/23 [==============================] - 2s 70ms/step - loss: 7.6098e-04 - accuracy: 0.0000e+00 - val_loss: 4742408.0000 - val_accuracy: 0.0000e+00\n",
      "Epoch 23/100\n",
      "23/23 [==============================] - 2s 71ms/step - loss: 6.6674e-04 - accuracy: 0.0000e+00 - val_loss: 4742373.5000 - val_accuracy: 0.0000e+00\n",
      "Epoch 24/100\n",
      "23/23 [==============================] - 2s 68ms/step - loss: 6.3559e-04 - accuracy: 0.0000e+00 - val_loss: 4742450.5000 - val_accuracy: 0.0000e+00\n",
      "Epoch 25/100\n",
      "23/23 [==============================] - 2s 67ms/step - loss: 6.4577e-04 - accuracy: 0.0000e+00 - val_loss: 4742371.0000 - val_accuracy: 0.0000e+00\n",
      "Epoch 26/100\n",
      "23/23 [==============================] - 2s 67ms/step - loss: 6.0840e-04 - accuracy: 0.0000e+00 - val_loss: 4742374.0000 - val_accuracy: 0.0000e+00\n",
      "Epoch 27/100\n",
      "23/23 [==============================] - 1s 65ms/step - loss: 5.8675e-04 - accuracy: 0.0000e+00 - val_loss: 4742440.0000 - val_accuracy: 0.0000e+00\n",
      "Epoch 28/100\n",
      "23/23 [==============================] - 2s 72ms/step - loss: 6.4752e-04 - accuracy: 0.0000e+00 - val_loss: 4742285.5000 - val_accuracy: 0.0000e+00\n",
      "Epoch 29/100\n",
      "23/23 [==============================] - 1s 65ms/step - loss: 7.4399e-04 - accuracy: 0.0000e+00 - val_loss: 4742446.0000 - val_accuracy: 0.0000e+00\n",
      "Epoch 30/100\n",
      "23/23 [==============================] - 2s 70ms/step - loss: 6.2133e-04 - accuracy: 0.0000e+00 - val_loss: 4742473.5000 - val_accuracy: 0.0000e+00\n",
      "Epoch 31/100\n",
      "23/23 [==============================] - 1s 64ms/step - loss: 6.8183e-04 - accuracy: 0.0000e+00 - val_loss: 4742496.5000 - val_accuracy: 0.0000e+00\n",
      "Epoch 32/100\n",
      "23/23 [==============================] - 1s 63ms/step - loss: 6.3527e-04 - accuracy: 0.0000e+00 - val_loss: 4742366.5000 - val_accuracy: 0.0000e+00\n",
      "Epoch 33/100\n",
      "23/23 [==============================] - 1s 61ms/step - loss: 5.5278e-04 - accuracy: 0.0000e+00 - val_loss: 4742377.0000 - val_accuracy: 0.0000e+00\n",
      "Epoch 34/100\n",
      "23/23 [==============================] - 1s 62ms/step - loss: 5.7258e-04 - accuracy: 0.0000e+00 - val_loss: 4742469.0000 - val_accuracy: 0.0000e+00\n",
      "Epoch 35/100\n",
      "23/23 [==============================] - 1s 64ms/step - loss: 5.0208e-04 - accuracy: 0.0000e+00 - val_loss: 4742453.5000 - val_accuracy: 0.0000e+00\n",
      "Epoch 36/100\n",
      "23/23 [==============================] - 1s 63ms/step - loss: 6.0053e-04 - accuracy: 0.0000e+00 - val_loss: 4742170.5000 - val_accuracy: 0.0000e+00\n",
      "Epoch 37/100\n",
      "23/23 [==============================] - 1s 63ms/step - loss: 6.2227e-04 - accuracy: 0.0000e+00 - val_loss: 4742411.5000 - val_accuracy: 0.0000e+00\n",
      "Epoch 38/100\n",
      "23/23 [==============================] - 1s 65ms/step - loss: 5.4748e-04 - accuracy: 0.0000e+00 - val_loss: 4742336.0000 - val_accuracy: 0.0000e+00\n",
      "Epoch 39/100\n",
      "23/23 [==============================] - 2s 72ms/step - loss: 5.3248e-04 - accuracy: 0.0000e+00 - val_loss: 4742382.5000 - val_accuracy: 0.0000e+00\n",
      "Epoch 40/100\n",
      "23/23 [==============================] - 2s 68ms/step - loss: 5.1724e-04 - accuracy: 0.0000e+00 - val_loss: 4742343.5000 - val_accuracy: 0.0000e+00\n",
      "Epoch 41/100\n",
      "23/23 [==============================] - 1s 62ms/step - loss: 6.5197e-04 - accuracy: 0.0000e+00 - val_loss: 4742367.0000 - val_accuracy: 0.0000e+00\n",
      "Epoch 42/100\n",
      "23/23 [==============================] - 1s 62ms/step - loss: 4.8672e-04 - accuracy: 0.0000e+00 - val_loss: 4742420.0000 - val_accuracy: 0.0000e+00\n",
      "Epoch 43/100\n",
      "23/23 [==============================] - 2s 69ms/step - loss: 5.0043e-04 - accuracy: 0.0000e+00 - val_loss: 4742335.0000 - val_accuracy: 0.0000e+00\n",
      "Epoch 44/100\n",
      "23/23 [==============================] - 2s 77ms/step - loss: 4.7143e-04 - accuracy: 0.0000e+00 - val_loss: 4742233.0000 - val_accuracy: 0.0000e+00\n",
      "Epoch 45/100\n",
      "23/23 [==============================] - 2s 70ms/step - loss: 5.4575e-04 - accuracy: 0.0000e+00 - val_loss: 4742378.5000 - val_accuracy: 0.0000e+00\n",
      "Epoch 46/100\n",
      "23/23 [==============================] - 1s 65ms/step - loss: 5.0724e-04 - accuracy: 0.0000e+00 - val_loss: 4742308.5000 - val_accuracy: 0.0000e+00\n",
      "Epoch 47/100\n",
      "23/23 [==============================] - 2s 73ms/step - loss: 3.9905e-04 - accuracy: 0.0000e+00 - val_loss: 4742293.5000 - val_accuracy: 0.0000e+00\n",
      "Epoch 48/100\n",
      "23/23 [==============================] - 2s 72ms/step - loss: 4.2131e-04 - accuracy: 0.0000e+00 - val_loss: 4742355.0000 - val_accuracy: 0.0000e+00\n",
      "Epoch 49/100\n",
      "23/23 [==============================] - 1s 65ms/step - loss: 4.0380e-04 - accuracy: 0.0000e+00 - val_loss: 4742307.5000 - val_accuracy: 0.0000e+00\n",
      "Epoch 50/100\n",
      "23/23 [==============================] - 1s 60ms/step - loss: 3.7925e-04 - accuracy: 0.0000e+00 - val_loss: 4742326.5000 - val_accuracy: 0.0000e+00\n",
      "Epoch 51/100\n",
      "23/23 [==============================] - 2s 73ms/step - loss: 3.9045e-04 - accuracy: 0.0000e+00 - val_loss: 4742374.0000 - val_accuracy: 0.0000e+00\n",
      "Epoch 52/100\n"
     ]
    },
    {
     "name": "stdout",
     "output_type": "stream",
     "text": [
      "23/23 [==============================] - 2s 80ms/step - loss: 3.9069e-04 - accuracy: 0.0000e+00 - val_loss: 4742326.5000 - val_accuracy: 0.0000e+00\n",
      "Epoch 53/100\n",
      "23/23 [==============================] - 2s 74ms/step - loss: 3.9242e-04 - accuracy: 0.0000e+00 - val_loss: 4742396.0000 - val_accuracy: 0.0000e+00\n",
      "Epoch 54/100\n",
      "23/23 [==============================] - 2s 85ms/step - loss: 3.7880e-04 - accuracy: 0.0000e+00 - val_loss: 4742174.5000 - val_accuracy: 0.0000e+00\n",
      "Epoch 55/100\n",
      "23/23 [==============================] - 2s 89ms/step - loss: 4.3709e-04 - accuracy: 0.0000e+00 - val_loss: 4742266.0000 - val_accuracy: 0.0000e+00\n",
      "Epoch 56/100\n",
      "23/23 [==============================] - 2s 76ms/step - loss: 3.6392e-04 - accuracy: 0.0000e+00 - val_loss: 4742331.0000 - val_accuracy: 0.0000e+00\n",
      "Epoch 57/100\n",
      "23/23 [==============================] - 1s 62ms/step - loss: 3.8511e-04 - accuracy: 0.0000e+00 - val_loss: 4742346.5000 - val_accuracy: 0.0000e+00\n",
      "Epoch 58/100\n",
      "23/23 [==============================] - 1s 62ms/step - loss: 4.7167e-04 - accuracy: 0.0000e+00 - val_loss: 4742349.5000 - val_accuracy: 0.0000e+00\n",
      "Epoch 59/100\n",
      "23/23 [==============================] - 1s 60ms/step - loss: 3.6500e-04 - accuracy: 0.0000e+00 - val_loss: 4742215.0000 - val_accuracy: 0.0000e+00\n",
      "Epoch 60/100\n",
      "23/23 [==============================] - 1s 62ms/step - loss: 4.7112e-04 - accuracy: 0.0000e+00 - val_loss: 4742421.5000 - val_accuracy: 0.0000e+00\n",
      "Epoch 61/100\n",
      "23/23 [==============================] - 1s 61ms/step - loss: 3.9852e-04 - accuracy: 0.0000e+00 - val_loss: 4742373.0000 - val_accuracy: 0.0000e+00\n",
      "Epoch 62/100\n",
      "23/23 [==============================] - 1s 61ms/step - loss: 3.4433e-04 - accuracy: 0.0000e+00 - val_loss: 4742281.0000 - val_accuracy: 0.0000e+00\n",
      "Epoch 63/100\n",
      "23/23 [==============================] - 2s 69ms/step - loss: 3.2173e-04 - accuracy: 0.0000e+00 - val_loss: 4742359.0000 - val_accuracy: 0.0000e+00\n",
      "Epoch 64/100\n",
      "23/23 [==============================] - 2s 67ms/step - loss: 3.6554e-04 - accuracy: 0.0000e+00 - val_loss: 4742241.0000 - val_accuracy: 0.0000e+00\n",
      "Epoch 65/100\n",
      "23/23 [==============================] - 2s 68ms/step - loss: 4.5292e-04 - accuracy: 0.0000e+00 - val_loss: 4742396.0000 - val_accuracy: 0.0000e+00\n",
      "Epoch 66/100\n",
      "23/23 [==============================] - 2s 77ms/step - loss: 3.5145e-04 - accuracy: 0.0000e+00 - val_loss: 4742282.5000 - val_accuracy: 0.0000e+00\n",
      "Epoch 67/100\n",
      "23/23 [==============================] - 2s 80ms/step - loss: 3.2701e-04 - accuracy: 0.0000e+00 - val_loss: 4742294.0000 - val_accuracy: 0.0000e+00\n",
      "Epoch 68/100\n",
      "23/23 [==============================] - 2s 75ms/step - loss: 3.0339e-04 - accuracy: 0.0000e+00 - val_loss: 4742330.5000 - val_accuracy: 0.0000e+00\n",
      "Epoch 69/100\n",
      "23/23 [==============================] - 2s 69ms/step - loss: 3.1599e-04 - accuracy: 0.0000e+00 - val_loss: 4742323.0000 - val_accuracy: 0.0000e+00\n",
      "Epoch 70/100\n",
      "23/23 [==============================] - 2s 71ms/step - loss: 3.1742e-04 - accuracy: 0.0000e+00 - val_loss: 4742349.0000 - val_accuracy: 0.0000e+00\n",
      "Epoch 71/100\n",
      "23/23 [==============================] - 2s 76ms/step - loss: 3.3101e-04 - accuracy: 0.0000e+00 - val_loss: 4742276.5000 - val_accuracy: 0.0000e+00\n",
      "Epoch 72/100\n",
      "23/23 [==============================] - 2s 79ms/step - loss: 3.8102e-04 - accuracy: 0.0000e+00 - val_loss: 4742222.5000 - val_accuracy: 0.0000e+00\n",
      "Epoch 73/100\n",
      "23/23 [==============================] - 2s 77ms/step - loss: 3.6512e-04 - accuracy: 0.0000e+00 - val_loss: 4742364.0000 - val_accuracy: 0.0000e+00\n",
      "Epoch 74/100\n",
      "23/23 [==============================] - 2s 78ms/step - loss: 3.6472e-04 - accuracy: 0.0000e+00 - val_loss: 4742241.5000 - val_accuracy: 0.0000e+00\n",
      "Epoch 75/100\n",
      "23/23 [==============================] - 2s 78ms/step - loss: 3.5311e-04 - accuracy: 0.0000e+00 - val_loss: 4742228.0000 - val_accuracy: 0.0000e+00\n",
      "Epoch 76/100\n",
      "23/23 [==============================] - 2s 77ms/step - loss: 2.5599e-04 - accuracy: 0.0000e+00 - val_loss: 4742273.0000 - val_accuracy: 0.0000e+00\n",
      "Epoch 77/100\n",
      "23/23 [==============================] - 2s 83ms/step - loss: 2.7902e-04 - accuracy: 0.0000e+00 - val_loss: 4742247.0000 - val_accuracy: 0.0000e+00\n",
      "Epoch 78/100\n",
      "23/23 [==============================] - 2s 83ms/step - loss: 2.9146e-04 - accuracy: 0.0000e+00 - val_loss: 4742235.5000 - val_accuracy: 0.0000e+00\n",
      "Epoch 79/100\n",
      "23/23 [==============================] - 2s 84ms/step - loss: 3.3822e-04 - accuracy: 0.0000e+00 - val_loss: 4742163.5000 - val_accuracy: 0.0000e+00\n",
      "Epoch 80/100\n",
      "23/23 [==============================] - 2s 82ms/step - loss: 3.8553e-04 - accuracy: 0.0000e+00 - val_loss: 4742315.5000 - val_accuracy: 0.0000e+00\n",
      "Epoch 81/100\n",
      "23/23 [==============================] - 2s 82ms/step - loss: 3.0774e-04 - accuracy: 0.0000e+00 - val_loss: 4742284.5000 - val_accuracy: 0.0000e+00\n",
      "Epoch 82/100\n",
      "23/23 [==============================] - 2s 88ms/step - loss: 2.8045e-04 - accuracy: 0.0000e+00 - val_loss: 4742248.5000 - val_accuracy: 0.0000e+00\n",
      "Epoch 83/100\n",
      "23/23 [==============================] - 2s 91ms/step - loss: 2.8759e-04 - accuracy: 0.0000e+00 - val_loss: 4742154.0000 - val_accuracy: 0.0000e+00\n",
      "Epoch 84/100\n",
      "23/23 [==============================] - 2s 93ms/step - loss: 3.0409e-04 - accuracy: 0.0000e+00 - val_loss: 4742251.5000 - val_accuracy: 0.0000e+00\n",
      "Epoch 85/100\n",
      "23/23 [==============================] - 2s 90ms/step - loss: 2.7937e-04 - accuracy: 0.0000e+00 - val_loss: 4742259.5000 - val_accuracy: 0.0000e+00\n",
      "Epoch 86/100\n",
      "23/23 [==============================] - 2s 92ms/step - loss: 2.4379e-04 - accuracy: 0.0000e+00 - val_loss: 4742268.5000 - val_accuracy: 0.0000e+00\n",
      "Epoch 87/100\n",
      "23/23 [==============================] - 2s 101ms/step - loss: 2.7828e-04 - accuracy: 0.0000e+00 - val_loss: 4742204.5000 - val_accuracy: 0.0000e+00\n",
      "Epoch 88/100\n",
      "23/23 [==============================] - 3s 110ms/step - loss: 2.5358e-04 - accuracy: 0.0000e+00 - val_loss: 4742278.0000 - val_accuracy: 0.0000e+00\n",
      "Epoch 89/100\n",
      "23/23 [==============================] - 2s 106ms/step - loss: 2.5995e-04 - accuracy: 0.0000e+00 - val_loss: 4742203.0000 - val_accuracy: 0.0000e+00\n",
      "Epoch 90/100\n",
      "23/23 [==============================] - 2s 98ms/step - loss: 3.0315e-04 - accuracy: 0.0000e+00 - val_loss: 4742236.0000 - val_accuracy: 0.0000e+00\n",
      "Epoch 91/100\n",
      "23/23 [==============================] - 3s 112ms/step - loss: 2.7181e-04 - accuracy: 0.0000e+00 - val_loss: 4742315.5000 - val_accuracy: 0.0000e+00\n",
      "Epoch 92/100\n",
      "23/23 [==============================] - 2s 109ms/step - loss: 3.0434e-04 - accuracy: 0.0000e+00 - val_loss: 4742253.5000 - val_accuracy: 0.0000e+00\n",
      "Epoch 93/100\n",
      "23/23 [==============================] - 3s 120ms/step - loss: 2.7091e-04 - accuracy: 0.0000e+00 - val_loss: 4742279.0000 - val_accuracy: 0.0000e+00\n",
      "Epoch 94/100\n",
      "23/23 [==============================] - 2s 109ms/step - loss: 2.6764e-04 - accuracy: 0.0000e+00 - val_loss: 4742220.5000 - val_accuracy: 0.0000e+00\n",
      "Epoch 95/100\n",
      "23/23 [==============================] - 2s 100ms/step - loss: 2.3997e-04 - accuracy: 0.0000e+00 - val_loss: 4742225.0000 - val_accuracy: 0.0000e+00\n",
      "Epoch 96/100\n",
      "23/23 [==============================] - 2s 100ms/step - loss: 2.2916e-04 - accuracy: 0.0000e+00 - val_loss: 4742261.5000 - val_accuracy: 0.0000e+00\n",
      "Epoch 97/100\n",
      "23/23 [==============================] - 2s 102ms/step - loss: 2.6772e-04 - accuracy: 0.0000e+00 - val_loss: 4742307.5000 - val_accuracy: 0.0000e+00\n",
      "Epoch 98/100\n",
      "23/23 [==============================] - 2s 101ms/step - loss: 3.3403e-04 - accuracy: 0.0000e+00 - val_loss: 4742375.5000 - val_accuracy: 0.0000e+00\n",
      "Epoch 99/100\n",
      "23/23 [==============================] - 2s 103ms/step - loss: 2.6734e-04 - accuracy: 0.0000e+00 - val_loss: 4742276.0000 - val_accuracy: 0.0000e+00\n",
      "Epoch 100/100\n",
      "23/23 [==============================] - 2s 100ms/step - loss: 2.7076e-04 - accuracy: 0.0000e+00 - val_loss: 4742272.5000 - val_accuracy: 0.0000e+00\n"
     ]
    },
    {
     "data": {
      "text/plain": [
       "<keras.callbacks.History at 0x2024cad3580>"
      ]
     },
     "execution_count": 82,
     "metadata": {},
     "output_type": "execute_result"
    }
   ],
   "source": [
    "# Compile the model\n",
    "CNN.compile(optimizer='adam', loss='mean_squared_error', metrics=['accuracy'])\n",
    "CNN.fit(x_train, y_train, validation_data=(x_test, y_test), epochs=100, batch_size=32)"
   ]
  },
  {
   "cell_type": "code",
   "execution_count": 101,
   "id": "e5fa4104",
   "metadata": {},
   "outputs": [
    {
     "name": "stdout",
     "output_type": "stream",
     "text": [
      "13/13 [==============================] - 0s 21ms/step\n"
     ]
    },
    {
     "data": {
      "text/plain": [
       "0.7672737260108393"
      ]
     },
     "execution_count": 101,
     "metadata": {},
     "output_type": "execute_result"
    }
   ],
   "source": [
    "cnn_predicted_stock = CNN.predict(x_test)\n",
    "cnn_predicted_stock = sc.inverse_transform(cnn_predicted_stock)\n",
    "train = data[:len(train_data)]\n",
    "valid = data[len(train_data):]\n",
    "valid['Predictions'] = cnn_predicted_stock\n",
    "score = r2_score(y_test, cnn_predicted_stock)\n",
    "score"
   ]
  },
  {
   "cell_type": "code",
   "execution_count": 102,
   "id": "bb4a4df9",
   "metadata": {
    "scrolled": true
   },
   "outputs": [
    {
     "data": {
      "image/png": "[encoded data removed]",
      "text/plain": [
       "<Figure size 1152x576 with 1 Axes>"
      ]
     },
     "metadata": {
      "needs_background": "light"
     },
     "output_type": "display_data"
    }
   ],
   "source": [
    "plt.figure(figsize=(16,8))\n",
    "plt.title('Model')\n",
    "plt.xlabel('Date', fontsize=8)\n",
    "plt.ylabel('SPX', fontsize=12)\n",
    "plt.plot(train['Clos'])\n",
    "plt.plot(valid[['Clos', 'Predictions']])\n",
    "plt.legend(['Train', 'Val', 'Predictions'], loc='lower right')\n",
    "plt.show()\n"
   ]
  },
  {
   "cell_type": "code",
   "execution_count": null,
   "id": "97a873d0",
   "metadata": {},
   "outputs": [],
   "source": []
  },
  {
   "cell_type": "code",
   "execution_count": null,
   "id": "bcb1df80",
   "metadata": {},
   "outputs": [],
   "source": []
  },
  {
   "cell_type": "code",
   "execution_count": 108,
   "id": "90e12da7",
   "metadata": {},
   "outputs": [
    {
     "name": "stdout",
     "output_type": "stream",
     "text": [
      "+------+----------+------------+--------+\n",
      "|      | Accuracy |    MSE     |  MAE   |\n",
      "+------+----------+------------+--------+\n",
      "| LSTM |  -3.47   |  53739.06  | 193.87 |\n",
      "| GRU  |  -3.62   | 1066782.41 | 991.13 |\n",
      "| CNN  |   0.77   |  53739.06  | 193.87 |\n",
      "+------+----------+------------+--------+\n"
     ]
    }
   ],
   "source": [
    "myTable = PrettyTable([\"\", \"Accuracy\", \"MSE\", \"MAE\"])\n",
    "\n",
    "myTable.add_row([\"LSTM\", \n",
    "           str(round(r2_score(y_test, lstm_predicted_stock),2)), \n",
    "           str(round(mean_squared_error(y_test, cnn_predicted_stock),2)), \n",
    "           str(round(mean_absolute_error(y_test, cnn_predicted_stock),2)),\n",
    "          ]\n",
    "         )\n",
    "myTable.add_row([\"GRU\", \n",
    "           str(round(r2_score(y_test, gru_predicted_stock),2)), \n",
    "           str(round(mean_squared_error(y_test, gru_predicted_stock),2)), \n",
    "           str(round(mean_absolute_error(y_test, gru_predicted_stock),2)),\n",
    "          ]\n",
    "         )\n",
    "           \n",
    "myTable.add_row([\"CNN\", \n",
    "           str(round(r2_score(y_test, cnn_predicted_stock),2)), \n",
    "           str(round(mean_squared_error(y_test, cnn_predicted_stock),2)), \n",
    "           str(round(mean_absolute_error(y_test, cnn_predicted_stock),2)),\n",
    "          ]\n",
    "         )\n",
    "print(myTable)"
   ]
  }
 ],
 "metadata": {
  "kernelspec": {
   "display_name": "Python 3",
   "language": "python",
   "name": "python3"
  },
  "language_info": {
   "codemirror_mode": {
    "name": "ipython",
    "version": 3
   },
   "file_extension": ".py",
   "mimetype": "text/x-python",
   "name": "python",
   "nbconvert_exporter": "python",
   "pygments_lexer": "ipython3",
   "version": "3.8.8"
  }
 },
 "nbformat": 4,
 "nbformat_minor": 5
}
